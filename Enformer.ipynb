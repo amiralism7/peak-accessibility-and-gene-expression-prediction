{
 "cells": [
  {
   "cell_type": "markdown",
   "metadata": {
    "id": "dQj1ZwhVyc1a"
   },
   "source": [
    "# Problems So far ()\n",
    "\n",
    "1.   \n",
    "\n",
    "And the way I should approach the task is still a bit vague.\n"
   ]
  },
  {
   "cell_type": "markdown",
   "metadata": {
    "id": "jn-P6vkaE3Jb"
   },
   "source": [
    "# Google Colab Setup"
   ]
  },
  {
   "cell_type": "code",
   "execution_count": 1,
   "metadata": {
    "id": "noq85srJ-hWs"
   },
   "outputs": [],
   "source": [
    "# ! pip install -q kaggle"
   ]
  },
  {
   "cell_type": "code",
   "execution_count": 6,
   "metadata": {
    "colab": {
     "base_uri": "https://localhost:8080/",
     "height": 91
    },
    "id": "yQe0_9ng_mOi",
    "outputId": "ab3dfb76-75e2-49f1-8c19-3662630b8439"
   },
   "outputs": [
    {
     "data": {
      "text/html": [
       "\n",
       "     <input type=\"file\" id=\"files-cf55e224-7a74-49d3-abd9-e204f4c13b85\" name=\"files[]\" multiple disabled\n",
       "        style=\"border:none\" />\n",
       "     <output id=\"result-cf55e224-7a74-49d3-abd9-e204f4c13b85\">\n",
       "      Upload widget is only available when the cell has been executed in the\n",
       "      current browser session. Please rerun this cell to enable.\n",
       "      </output>\n",
       "      <script>// Copyright 2017 Google LLC\n",
       "//\n",
       "// Licensed under the Apache License, Version 2.0 (the \"License\");\n",
       "// you may not use this file except in compliance with the License.\n",
       "// You may obtain a copy of the License at\n",
       "//\n",
       "//      http://www.apache.org/licenses/LICENSE-2.0\n",
       "//\n",
       "// Unless required by applicable law or agreed to in writing, software\n",
       "// distributed under the License is distributed on an \"AS IS\" BASIS,\n",
       "// WITHOUT WARRANTIES OR CONDITIONS OF ANY KIND, either express or implied.\n",
       "// See the License for the specific language governing permissions and\n",
       "// limitations under the License.\n",
       "\n",
       "/**\n",
       " * @fileoverview Helpers for google.colab Python module.\n",
       " */\n",
       "(function(scope) {\n",
       "function span(text, styleAttributes = {}) {\n",
       "  const element = document.createElement('span');\n",
       "  element.textContent = text;\n",
       "  for (const key of Object.keys(styleAttributes)) {\n",
       "    element.style[key] = styleAttributes[key];\n",
       "  }\n",
       "  return element;\n",
       "}\n",
       "\n",
       "// Max number of bytes which will be uploaded at a time.\n",
       "const MAX_PAYLOAD_SIZE = 100 * 1024;\n",
       "\n",
       "function _uploadFiles(inputId, outputId) {\n",
       "  const steps = uploadFilesStep(inputId, outputId);\n",
       "  const outputElement = document.getElementById(outputId);\n",
       "  // Cache steps on the outputElement to make it available for the next call\n",
       "  // to uploadFilesContinue from Python.\n",
       "  outputElement.steps = steps;\n",
       "\n",
       "  return _uploadFilesContinue(outputId);\n",
       "}\n",
       "\n",
       "// This is roughly an async generator (not supported in the browser yet),\n",
       "// where there are multiple asynchronous steps and the Python side is going\n",
       "// to poll for completion of each step.\n",
       "// This uses a Promise to block the python side on completion of each step,\n",
       "// then passes the result of the previous step as the input to the next step.\n",
       "function _uploadFilesContinue(outputId) {\n",
       "  const outputElement = document.getElementById(outputId);\n",
       "  const steps = outputElement.steps;\n",
       "\n",
       "  const next = steps.next(outputElement.lastPromiseValue);\n",
       "  return Promise.resolve(next.value.promise).then((value) => {\n",
       "    // Cache the last promise value to make it available to the next\n",
       "    // step of the generator.\n",
       "    outputElement.lastPromiseValue = value;\n",
       "    return next.value.response;\n",
       "  });\n",
       "}\n",
       "\n",
       "/**\n",
       " * Generator function which is called between each async step of the upload\n",
       " * process.\n",
       " * @param {string} inputId Element ID of the input file picker element.\n",
       " * @param {string} outputId Element ID of the output display.\n",
       " * @return {!Iterable<!Object>} Iterable of next steps.\n",
       " */\n",
       "function* uploadFilesStep(inputId, outputId) {\n",
       "  const inputElement = document.getElementById(inputId);\n",
       "  inputElement.disabled = false;\n",
       "\n",
       "  const outputElement = document.getElementById(outputId);\n",
       "  outputElement.innerHTML = '';\n",
       "\n",
       "  const pickedPromise = new Promise((resolve) => {\n",
       "    inputElement.addEventListener('change', (e) => {\n",
       "      resolve(e.target.files);\n",
       "    });\n",
       "  });\n",
       "\n",
       "  const cancel = document.createElement('button');\n",
       "  inputElement.parentElement.appendChild(cancel);\n",
       "  cancel.textContent = 'Cancel upload';\n",
       "  const cancelPromise = new Promise((resolve) => {\n",
       "    cancel.onclick = () => {\n",
       "      resolve(null);\n",
       "    };\n",
       "  });\n",
       "\n",
       "  // Wait for the user to pick the files.\n",
       "  const files = yield {\n",
       "    promise: Promise.race([pickedPromise, cancelPromise]),\n",
       "    response: {\n",
       "      action: 'starting',\n",
       "    }\n",
       "  };\n",
       "\n",
       "  cancel.remove();\n",
       "\n",
       "  // Disable the input element since further picks are not allowed.\n",
       "  inputElement.disabled = true;\n",
       "\n",
       "  if (!files) {\n",
       "    return {\n",
       "      response: {\n",
       "        action: 'complete',\n",
       "      }\n",
       "    };\n",
       "  }\n",
       "\n",
       "  for (const file of files) {\n",
       "    const li = document.createElement('li');\n",
       "    li.append(span(file.name, {fontWeight: 'bold'}));\n",
       "    li.append(span(\n",
       "        `(${file.type || 'n/a'}) - ${file.size} bytes, ` +\n",
       "        `last modified: ${\n",
       "            file.lastModifiedDate ? file.lastModifiedDate.toLocaleDateString() :\n",
       "                                    'n/a'} - `));\n",
       "    const percent = span('0% done');\n",
       "    li.appendChild(percent);\n",
       "\n",
       "    outputElement.appendChild(li);\n",
       "\n",
       "    const fileDataPromise = new Promise((resolve) => {\n",
       "      const reader = new FileReader();\n",
       "      reader.onload = (e) => {\n",
       "        resolve(e.target.result);\n",
       "      };\n",
       "      reader.readAsArrayBuffer(file);\n",
       "    });\n",
       "    // Wait for the data to be ready.\n",
       "    let fileData = yield {\n",
       "      promise: fileDataPromise,\n",
       "      response: {\n",
       "        action: 'continue',\n",
       "      }\n",
       "    };\n",
       "\n",
       "    // Use a chunked sending to avoid message size limits. See b/62115660.\n",
       "    let position = 0;\n",
       "    do {\n",
       "      const length = Math.min(fileData.byteLength - position, MAX_PAYLOAD_SIZE);\n",
       "      const chunk = new Uint8Array(fileData, position, length);\n",
       "      position += length;\n",
       "\n",
       "      const base64 = btoa(String.fromCharCode.apply(null, chunk));\n",
       "      yield {\n",
       "        response: {\n",
       "          action: 'append',\n",
       "          file: file.name,\n",
       "          data: base64,\n",
       "        },\n",
       "      };\n",
       "\n",
       "      let percentDone = fileData.byteLength === 0 ?\n",
       "          100 :\n",
       "          Math.round((position / fileData.byteLength) * 100);\n",
       "      percent.textContent = `${percentDone}% done`;\n",
       "\n",
       "    } while (position < fileData.byteLength);\n",
       "  }\n",
       "\n",
       "  // All done.\n",
       "  yield {\n",
       "    response: {\n",
       "      action: 'complete',\n",
       "    }\n",
       "  };\n",
       "}\n",
       "\n",
       "scope.google = scope.google || {};\n",
       "scope.google.colab = scope.google.colab || {};\n",
       "scope.google.colab._files = {\n",
       "  _uploadFiles,\n",
       "  _uploadFilesContinue,\n",
       "};\n",
       "})(self);\n",
       "</script> "
      ],
      "text/plain": [
       "<IPython.core.display.HTML object>"
      ]
     },
     "metadata": {},
     "output_type": "display_data"
    },
    {
     "name": "stdout",
     "output_type": "stream",
     "text": [
      "Saving kaggle.json to kaggle.json\n"
     ]
    },
    {
     "data": {
      "text/plain": [
       "{'kaggle.json': b'{\"username\":\"amiralism\",\"key\":\"cfffa868d2456e4a1cb4a6e389c7af4a\"}'}"
      ]
     },
     "execution_count": 6,
     "metadata": {},
     "output_type": "execute_result"
    }
   ],
   "source": [
    "# from google.colab import files\n",
    "# files.upload()"
   ]
  },
  {
   "cell_type": "code",
   "execution_count": 7,
   "metadata": {
    "colab": {
     "base_uri": "https://localhost:8080/"
    },
    "id": "pcvuCTMj_t1Z",
    "outputId": "d2edff86-72b2-47a0-fcff-4ca608609460"
   },
   "outputs": [
    {
     "name": "stdout",
     "output_type": "stream",
     "text": [
      "mkdir: cannot create directory ‘/root/.kaggle’: File exists\n"
     ]
    }
   ],
   "source": [
    "# ! mkdir ~/.kaggle\n",
    "# ! cp kaggle.json ~/.kaggle/\n",
    "# ! chmod 600 ~/.kaggle/kaggle.json"
   ]
  },
  {
   "cell_type": "code",
   "execution_count": 8,
   "metadata": {
    "colab": {
     "base_uri": "https://localhost:8080/"
    },
    "id": "I3HxjayR_8-k",
    "outputId": "7047d8b7-c915-42ee-8d7d-a2e4eedaffc2"
   },
   "outputs": [
    {
     "name": "stdout",
     "output_type": "stream",
     "text": [
      "Downloading open-problems-multimodal.zip to /content\n",
      "100% 18.1G/18.1G [14:13<00:00, 25.5MB/s]\n",
      "100% 18.1G/18.1G [14:13<00:00, 22.7MB/s]\n"
     ]
    }
   ],
   "source": [
    "# ! kaggle competitions download -c 'open-problems-multimodal'"
   ]
  },
  {
   "cell_type": "code",
   "execution_count": 9,
   "metadata": {
    "colab": {
     "base_uri": "https://localhost:8080/"
    },
    "id": "1YIhhTpcAHqv",
    "outputId": "17fa3191-a770-4625-8fe1-920364c7aa9a"
   },
   "outputs": [
    {
     "name": "stdout",
     "output_type": "stream",
     "text": [
      "Archive:  open-problems-multimodal.zip\n",
      "  inflating: data/evaluation_ids.csv  \n",
      "  inflating: data/metadata.csv       \n",
      "  inflating: data/metadata_cite_day_2_donor_27678.csv  \n",
      "  inflating: data/sample_submission.csv  \n",
      "  inflating: data/test_cite_inputs.h5  \n",
      "  inflating: data/test_cite_inputs_day_2_donor_27678.h5  \n",
      "  inflating: data/test_multi_inputs.h5  \n",
      "  inflating: data/train_cite_inputs.h5  \n",
      "  inflating: data/train_cite_targets.h5  \n",
      "  inflating: data/train_multi_inputs.h5  \n",
      "  inflating: data/train_multi_targets.h5  \n"
     ]
    }
   ],
   "source": [
    "# ! mkdir data\n",
    "# ! unzip open-problems-multimodal.zip -d data"
   ]
  },
  {
   "cell_type": "code",
   "execution_count": 3,
   "metadata": {},
   "outputs": [
    {
     "name": "stdout",
     "output_type": "stream",
     "text": [
      "Downloading...\n",
      "From: https://drive.google.com/uc?id=1L8S1gpSxheKN9BWlcGE65-rTUdfwCIOm\n",
      "To: /mnt/g/Darsi/Bio/Enformer/deepmu.zip\n",
      "100%|██████████████████████████████████████| 23.1k/23.1k [00:00<00:00, 27.3MB/s]\n",
      "Archive:  deepmu.zip\n",
      "   creating: deepmu/\n",
      "   creating: deepmu/models/\n",
      "   creating: deepmu/models/sequence/\n",
      "  inflating: deepmu/models/sequence/_enformer.py  \n",
      "  inflating: deepmu/models/sequence/__init__.py  \n",
      "   creating: deepmu/models/sequence/__pycache__/\n",
      "  inflating: deepmu/models/sequence/__pycache__/_enformer.cpython-311.pyc  \n",
      "  inflating: deepmu/models/sequence/__pycache__/__init__.cpython-311.pyc  \n",
      "  inflating: deepmu/models/__init__.py  \n",
      "   creating: deepmu/models/__pycache__/\n",
      "  inflating: deepmu/models/__pycache__/__init__.cpython-311.pyc  \n",
      "   creating: deepmu/preprocessing/\n",
      " extracting: deepmu/preprocessing/_atac.py  \n",
      "  inflating: deepmu/preprocessing/_genomics.py  \n",
      " extracting: deepmu/preprocessing/_rna.py  \n",
      "  inflating: deepmu/preprocessing/_utils.py  \n",
      " extracting: deepmu/preprocessing/__init__.py  \n",
      "   creating: deepmu/preprocessing/__pycache__/\n",
      "  inflating: deepmu/preprocessing/__pycache__/_genomics.cpython-311.pyc  \n",
      "  inflating: deepmu/preprocessing/__pycache__/__init__.cpython-311.pyc  \n",
      "  inflating: deepmu/_datasets.py     \n",
      "  inflating: deepmu/_io_utils.py     \n",
      "  inflating: deepmu/_settings.py     \n",
      "  inflating: deepmu/__init__.py      \n",
      "   creating: deepmu/__pycache__/\n",
      "  inflating: deepmu/__pycache__/_datasets.cpython-311.pyc  \n",
      "  inflating: deepmu/__pycache__/_io_utils.cpython-311.pyc  \n",
      "  inflating: deepmu/__pycache__/_settings.cpython-311.pyc  \n",
      "  inflating: deepmu/__pycache__/__init__.cpython-311.pyc  \n"
     ]
    }
   ],
   "source": [
    "# # deepmu package\n",
    "# ! gdown 1L8S1gpSxheKN9BWlcGE65-rTUdfwCIOm\n",
    "# ! unzip deepmu.zip"
   ]
  },
  {
   "cell_type": "code",
   "execution_count": 10,
   "metadata": {
    "id": "O81S28HzGp6X"
   },
   "outputs": [],
   "source": [
    "# ! pip install scanpy --quiet\n",
    "# ! pip install muon --quiet\n",
    "# ! pip install mudata --quiet\n",
    "# ! pip install enformer-pytorch --quiet\n",
    "# ! pip install biopython --quiet"
   ]
  },
  {
   "cell_type": "markdown",
   "metadata": {
    "id": "eXQYmKnjElja"
   },
   "source": [
    "# Reference"
   ]
  },
  {
   "cell_type": "code",
   "execution_count": null,
   "metadata": {
    "colab": {
     "base_uri": "https://localhost:8080/"
    },
    "id": "sbAE5tXTEm21",
    "outputId": "4f4cd5c3-f01f-43bf-d013-9fd33ca0c7f5"
   },
   "outputs": [
    {
     "name": "stdout",
     "output_type": "stream",
     "text": [
      "  % Total    % Received % Xferd  Average Speed   Time    Time     Time  Current\n",
      "                                 Dload  Upload   Total   Spent    Left  Speed\n",
      "100 10.6G  100 10.6G    0     0   197M      0  0:00:55  0:00:55 --:--:--  155M\n"
     ]
    }
   ],
   "source": [
    "# ! curl -O https://cf.10xgenomics.com/supp/cell-exp/refdata-gex-GRCh38-2020-A.tar.gz"
   ]
  },
  {
   "cell_type": "code",
   "execution_count": null,
   "metadata": {
    "id": "THBRZGHIFKgd"
   },
   "outputs": [],
   "source": [
    "# ! mkdir reference\n",
    "# ! tar -xf refdata-gex-GRCh38-2020-A.tar.gz"
   ]
  },
  {
   "cell_type": "markdown",
   "metadata": {
    "id": "uK_3qFtAExOq"
   },
   "source": [
    "# Import Libraries"
   ]
  },
  {
   "cell_type": "code",
   "execution_count": 1,
   "metadata": {},
   "outputs": [
    {
     "data": {
      "text/plain": [
       "True"
      ]
     },
     "execution_count": 1,
     "metadata": {},
     "output_type": "execute_result"
    }
   ],
   "source": [
    "import torch\n",
    "torch.cuda.is_available()"
   ]
  },
  {
   "cell_type": "code",
   "execution_count": 2,
   "metadata": {
    "id": "NCd4etG2CZm9",
    "scrolled": false
   },
   "outputs": [
    {
     "name": "stderr",
     "output_type": "stream",
     "text": [
      "/home/amiralism/miniconda3/envs/bio/lib/python3.11/site-packages/umap/distances.py:1063: NumbaDeprecationWarning: The 'nopython' keyword argument was not supplied to the 'numba.jit' decorator. The implicit default value for this argument is currently False, but it will be changed to True in Numba 0.59.0. See https://numba.readthedocs.io/en/stable/reference/deprecation.html#deprecation-of-object-mode-fall-back-behaviour-when-using-jit for details.\n",
      "  @numba.jit()\n",
      "/home/amiralism/miniconda3/envs/bio/lib/python3.11/site-packages/umap/distances.py:1071: NumbaDeprecationWarning: The 'nopython' keyword argument was not supplied to the 'numba.jit' decorator. The implicit default value for this argument is currently False, but it will be changed to True in Numba 0.59.0. See https://numba.readthedocs.io/en/stable/reference/deprecation.html#deprecation-of-object-mode-fall-back-behaviour-when-using-jit for details.\n",
      "  @numba.jit()\n",
      "/home/amiralism/miniconda3/envs/bio/lib/python3.11/site-packages/umap/distances.py:1086: NumbaDeprecationWarning: The 'nopython' keyword argument was not supplied to the 'numba.jit' decorator. The implicit default value for this argument is currently False, but it will be changed to True in Numba 0.59.0. See https://numba.readthedocs.io/en/stable/reference/deprecation.html#deprecation-of-object-mode-fall-back-behaviour-when-using-jit for details.\n",
      "  @numba.jit()\n",
      "/home/amiralism/miniconda3/envs/bio/lib/python3.11/site-packages/umap/umap_.py:660: NumbaDeprecationWarning: The 'nopython' keyword argument was not supplied to the 'numba.jit' decorator. The implicit default value for this argument is currently False, but it will be changed to True in Numba 0.59.0. See https://numba.readthedocs.io/en/stable/reference/deprecation.html#deprecation-of-object-mode-fall-back-behaviour-when-using-jit for details.\n",
      "  @numba.jit()\n",
      "2023-09-08 10:57:20.804933: I tensorflow/core/platform/cpu_feature_guard.cc:182] This TensorFlow binary is optimized to use available CPU instructions in performance-critical operations.\n",
      "To enable the following instructions: AVX2 FMA, in other operations, rebuild TensorFlow with the appropriate compiler flags.\n",
      "2023-09-08 10:57:21.847386: W tensorflow/compiler/tf2tensorrt/utils/py_utils.cc:38] TF-TRT Warning: Could not find TensorRT\n"
     ]
    }
   ],
   "source": [
    "import os\n",
    "import pandas as pd\n",
    "import matplotlib.pyplot as plt\n",
    "import seaborn as sns\n",
    "import numpy as np\n",
    "import seaborn as sns\n",
    "import re\n",
    "import gc\n",
    "import warnings\n",
    "import scanpy as sc\n",
    "import muon\n",
    "import deepmu as dm\n",
    "from tqdm import tqdm\n",
    "import mudata as md\n",
    "from mudata import MuData\n",
    "import anndata as ad\n",
    "from scipy.sparse import coo_matrix\n",
    "\n",
    "\n",
    "warnings.filterwarnings('ignore')\n",
    "os.environ['CUDA_VISIBLE_DEVICES'] = '1'\n",
    "os.environ['PROTOCOL_BUFFERS_PYTHON_IMPLEMENTATION']='python'"
   ]
  },
  {
   "cell_type": "markdown",
   "metadata": {},
   "source": [
    "# Loading Data"
   ]
  },
  {
   "cell_type": "code",
   "execution_count": 3,
   "metadata": {},
   "outputs": [],
   "source": [
    "data_dir = \"./data_kaggle\""
   ]
  },
  {
   "cell_type": "markdown",
   "metadata": {},
   "source": [
    "**Some Note**\n",
    "\n",
    "The lengths of `train_multi_inputs.h5` and `train_multi_targets.h5` are both 105942. \n",
    "We sample 5 percent of the whole dataset (almost) randomly and find the peaks and genes that are highly variable."
   ]
  },
  {
   "cell_type": "code",
   "execution_count": 4,
   "metadata": {},
   "outputs": [],
   "source": [
    "DATA_LENGTH = 105942"
   ]
  },
  {
   "cell_type": "markdown",
   "metadata": {},
   "source": [
    "## Loading Meta Data"
   ]
  },
  {
   "cell_type": "code",
   "execution_count": 4,
   "metadata": {
    "colab": {
     "base_uri": "https://localhost:8080/",
     "height": 112
    },
    "id": "dyhhT_m0FgUq",
    "outputId": "eeb0b466-c3e6-4b36-a13e-66300de97a4a"
   },
   "outputs": [
    {
     "data": {
      "text/html": [
       "<div>\n",
       "<style scoped>\n",
       "    .dataframe tbody tr th:only-of-type {\n",
       "        vertical-align: middle;\n",
       "    }\n",
       "\n",
       "    .dataframe tbody tr th {\n",
       "        vertical-align: top;\n",
       "    }\n",
       "\n",
       "    .dataframe thead th {\n",
       "        text-align: right;\n",
       "    }\n",
       "</style>\n",
       "<table border=\"1\" class=\"dataframe\">\n",
       "  <thead>\n",
       "    <tr style=\"text-align: right;\">\n",
       "      <th></th>\n",
       "      <th>day</th>\n",
       "      <th>donor</th>\n",
       "      <th>cell_type</th>\n",
       "      <th>technology</th>\n",
       "    </tr>\n",
       "    <tr>\n",
       "      <th>cell_id</th>\n",
       "      <th></th>\n",
       "      <th></th>\n",
       "      <th></th>\n",
       "      <th></th>\n",
       "    </tr>\n",
       "  </thead>\n",
       "  <tbody>\n",
       "    <tr>\n",
       "      <th>c2150f55becb</th>\n",
       "      <td>2</td>\n",
       "      <td>27678</td>\n",
       "      <td>HSC</td>\n",
       "      <td>citeseq</td>\n",
       "    </tr>\n",
       "    <tr>\n",
       "      <th>65b7edf8a4da</th>\n",
       "      <td>2</td>\n",
       "      <td>27678</td>\n",
       "      <td>HSC</td>\n",
       "      <td>citeseq</td>\n",
       "    </tr>\n",
       "    <tr>\n",
       "      <th>c1b26cb1057b</th>\n",
       "      <td>2</td>\n",
       "      <td>27678</td>\n",
       "      <td>EryP</td>\n",
       "      <td>citeseq</td>\n",
       "    </tr>\n",
       "    <tr>\n",
       "      <th>917168fa6f83</th>\n",
       "      <td>2</td>\n",
       "      <td>27678</td>\n",
       "      <td>NeuP</td>\n",
       "      <td>citeseq</td>\n",
       "    </tr>\n",
       "    <tr>\n",
       "      <th>2b29feeca86d</th>\n",
       "      <td>2</td>\n",
       "      <td>27678</td>\n",
       "      <td>EryP</td>\n",
       "      <td>citeseq</td>\n",
       "    </tr>\n",
       "    <tr>\n",
       "      <th>...</th>\n",
       "      <td>...</td>\n",
       "      <td>...</td>\n",
       "      <td>...</td>\n",
       "      <td>...</td>\n",
       "    </tr>\n",
       "    <tr>\n",
       "      <th>96a60b026659</th>\n",
       "      <td>10</td>\n",
       "      <td>31800</td>\n",
       "      <td>hidden</td>\n",
       "      <td>multiome</td>\n",
       "    </tr>\n",
       "    <tr>\n",
       "      <th>d493e546991e</th>\n",
       "      <td>10</td>\n",
       "      <td>31800</td>\n",
       "      <td>hidden</td>\n",
       "      <td>multiome</td>\n",
       "    </tr>\n",
       "    <tr>\n",
       "      <th>05666c99aa48</th>\n",
       "      <td>10</td>\n",
       "      <td>31800</td>\n",
       "      <td>hidden</td>\n",
       "      <td>multiome</td>\n",
       "    </tr>\n",
       "    <tr>\n",
       "      <th>121f946642b5</th>\n",
       "      <td>10</td>\n",
       "      <td>31800</td>\n",
       "      <td>hidden</td>\n",
       "      <td>multiome</td>\n",
       "    </tr>\n",
       "    <tr>\n",
       "      <th>b847ba21f59f</th>\n",
       "      <td>10</td>\n",
       "      <td>31800</td>\n",
       "      <td>hidden</td>\n",
       "      <td>multiome</td>\n",
       "    </tr>\n",
       "  </tbody>\n",
       "</table>\n",
       "<p>281528 rows × 4 columns</p>\n",
       "</div>"
      ],
      "text/plain": [
       "              day  donor cell_type technology\n",
       "cell_id                                      \n",
       "c2150f55becb    2  27678       HSC    citeseq\n",
       "65b7edf8a4da    2  27678       HSC    citeseq\n",
       "c1b26cb1057b    2  27678      EryP    citeseq\n",
       "917168fa6f83    2  27678      NeuP    citeseq\n",
       "2b29feeca86d    2  27678      EryP    citeseq\n",
       "...           ...    ...       ...        ...\n",
       "96a60b026659   10  31800    hidden   multiome\n",
       "d493e546991e   10  31800    hidden   multiome\n",
       "05666c99aa48   10  31800    hidden   multiome\n",
       "121f946642b5   10  31800    hidden   multiome\n",
       "b847ba21f59f   10  31800    hidden   multiome\n",
       "\n",
       "[281528 rows x 4 columns]"
      ]
     },
     "execution_count": 4,
     "metadata": {},
     "output_type": "execute_result"
    }
   ],
   "source": [
    "# loading the meta-data for the whole dataset, including CITE-seq data\n",
    "df_meta = pd.read_csv(os.path.join(data_dir, \"metadata.csv\") , index_col='cell_id')\n",
    "df_meta"
   ]
  },
  {
   "cell_type": "code",
   "execution_count": 5,
   "metadata": {
    "colab": {
     "base_uri": "https://localhost:8080/",
     "height": 112
    },
    "id": "oML_89PiLCzz",
    "outputId": "12717288-8644-4b12-c6ee-bf2e55c29c0d"
   },
   "outputs": [
    {
     "data": {
      "text/html": [
       "<div>\n",
       "<style scoped>\n",
       "    .dataframe tbody tr th:only-of-type {\n",
       "        vertical-align: middle;\n",
       "    }\n",
       "\n",
       "    .dataframe tbody tr th {\n",
       "        vertical-align: top;\n",
       "    }\n",
       "\n",
       "    .dataframe thead th {\n",
       "        text-align: right;\n",
       "    }\n",
       "</style>\n",
       "<table border=\"1\" class=\"dataframe\">\n",
       "  <thead>\n",
       "    <tr style=\"text-align: right;\">\n",
       "      <th></th>\n",
       "      <th>day</th>\n",
       "      <th>donor</th>\n",
       "      <th>cell_type</th>\n",
       "      <th>technology</th>\n",
       "    </tr>\n",
       "    <tr>\n",
       "      <th>cell_id</th>\n",
       "      <th></th>\n",
       "      <th></th>\n",
       "      <th></th>\n",
       "      <th></th>\n",
       "    </tr>\n",
       "  </thead>\n",
       "  <tbody>\n",
       "    <tr>\n",
       "      <th>458c2ae2c9b1</th>\n",
       "      <td>2</td>\n",
       "      <td>27678</td>\n",
       "      <td>hidden</td>\n",
       "      <td>multiome</td>\n",
       "    </tr>\n",
       "    <tr>\n",
       "      <th>01a0659b0710</th>\n",
       "      <td>2</td>\n",
       "      <td>27678</td>\n",
       "      <td>hidden</td>\n",
       "      <td>multiome</td>\n",
       "    </tr>\n",
       "    <tr>\n",
       "      <th>028a8bc3f2ba</th>\n",
       "      <td>2</td>\n",
       "      <td>27678</td>\n",
       "      <td>hidden</td>\n",
       "      <td>multiome</td>\n",
       "    </tr>\n",
       "    <tr>\n",
       "      <th>7ec0ca8bb863</th>\n",
       "      <td>2</td>\n",
       "      <td>27678</td>\n",
       "      <td>hidden</td>\n",
       "      <td>multiome</td>\n",
       "    </tr>\n",
       "    <tr>\n",
       "      <th>caa0b0022cdc</th>\n",
       "      <td>2</td>\n",
       "      <td>27678</td>\n",
       "      <td>hidden</td>\n",
       "      <td>multiome</td>\n",
       "    </tr>\n",
       "  </tbody>\n",
       "</table>\n",
       "</div>"
      ],
      "text/plain": [
       "              day  donor cell_type technology\n",
       "cell_id                                      \n",
       "458c2ae2c9b1    2  27678    hidden   multiome\n",
       "01a0659b0710    2  27678    hidden   multiome\n",
       "028a8bc3f2ba    2  27678    hidden   multiome\n",
       "7ec0ca8bb863    2  27678    hidden   multiome\n",
       "caa0b0022cdc    2  27678    hidden   multiome"
      ]
     },
     "execution_count": 5,
     "metadata": {},
     "output_type": "execute_result"
    }
   ],
   "source": [
    "# selecting only cells from multiome part\n",
    "df_meta_mul = df_meta[df_meta.technology == \"multiome\"].copy()\n",
    "del df_meta\n",
    "df_meta_mul.head()"
   ]
  },
  {
   "cell_type": "markdown",
   "metadata": {
    "id": "VCqAByrZ4H3Y"
   },
   "source": [
    "Multiome Dataset (according to kaggle description)\n",
    "\n",
    "train/test_multi_inputs.h5 - ATAC-seq peak counts transformed with TF-IDF using the default log(TF) * log(IDF) output (chromatin accessibility), with rows corresponding to cells and columns corresponding to the location of the genome whose level of accessibility is measured, here identified by the genomic coordinates on reference genome GRCh38 provided in the 10x References - 2020-A (July 7, 2020).\n",
    "\n",
    "train_multi_targets.h5 - RNA gene expression levels as library-size normalized and log1p transformed counts for the same cells."
   ]
  },
  {
   "cell_type": "markdown",
   "metadata": {},
   "source": [
    "# Data Preparation"
   ]
  },
  {
   "cell_type": "markdown",
   "metadata": {},
   "source": [
    "## Selecting rows and columns"
   ]
  },
  {
   "cell_type": "markdown",
   "metadata": {},
   "source": [
    "### Finding Highly Variable Peaks"
   ]
  },
  {
   "cell_type": "code",
   "execution_count": 5,
   "metadata": {},
   "outputs": [
    {
     "data": {
      "text/html": [
       "<div>\n",
       "<style scoped>\n",
       "    .dataframe tbody tr th:only-of-type {\n",
       "        vertical-align: middle;\n",
       "    }\n",
       "\n",
       "    .dataframe tbody tr th {\n",
       "        vertical-align: top;\n",
       "    }\n",
       "\n",
       "    .dataframe thead th {\n",
       "        text-align: right;\n",
       "    }\n",
       "</style>\n",
       "<table border=\"1\" class=\"dataframe\">\n",
       "  <thead>\n",
       "    <tr style=\"text-align: right;\">\n",
       "      <th>gene_id</th>\n",
       "      <th>GL000194.1:114519-115365</th>\n",
       "      <th>GL000194.1:55758-56597</th>\n",
       "      <th>GL000194.1:58217-58957</th>\n",
       "      <th>GL000194.1:59535-60431</th>\n",
       "      <th>GL000195.1:119766-120427</th>\n",
       "      <th>GL000195.1:120736-121603</th>\n",
       "      <th>GL000195.1:137437-138345</th>\n",
       "      <th>GL000195.1:15901-16653</th>\n",
       "      <th>GL000195.1:22357-23209</th>\n",
       "      <th>GL000195.1:23751-24619</th>\n",
       "      <th>...</th>\n",
       "      <th>chrY:7722278-7723128</th>\n",
       "      <th>chrY:7723971-7724880</th>\n",
       "      <th>chrY:7729854-7730772</th>\n",
       "      <th>chrY:7731785-7732664</th>\n",
       "      <th>chrY:7810142-7811040</th>\n",
       "      <th>chrY:7814107-7815018</th>\n",
       "      <th>chrY:7818751-7819626</th>\n",
       "      <th>chrY:7836768-7837671</th>\n",
       "      <th>chrY:7869454-7870371</th>\n",
       "      <th>chrY:7873814-7874709</th>\n",
       "    </tr>\n",
       "    <tr>\n",
       "      <th>cell_id</th>\n",
       "      <th></th>\n",
       "      <th></th>\n",
       "      <th></th>\n",
       "      <th></th>\n",
       "      <th></th>\n",
       "      <th></th>\n",
       "      <th></th>\n",
       "      <th></th>\n",
       "      <th></th>\n",
       "      <th></th>\n",
       "      <th></th>\n",
       "      <th></th>\n",
       "      <th></th>\n",
       "      <th></th>\n",
       "      <th></th>\n",
       "      <th></th>\n",
       "      <th></th>\n",
       "      <th></th>\n",
       "      <th></th>\n",
       "      <th></th>\n",
       "      <th></th>\n",
       "    </tr>\n",
       "  </thead>\n",
       "  <tbody>\n",
       "    <tr>\n",
       "      <th>9423819a6d94</th>\n",
       "      <td>0.0</td>\n",
       "      <td>0.0</td>\n",
       "      <td>0.0</td>\n",
       "      <td>0.0</td>\n",
       "      <td>0.0</td>\n",
       "      <td>0.0</td>\n",
       "      <td>0.0</td>\n",
       "      <td>0.0</td>\n",
       "      <td>0.0</td>\n",
       "      <td>0.0</td>\n",
       "      <td>...</td>\n",
       "      <td>0.0</td>\n",
       "      <td>0.0</td>\n",
       "      <td>0.0</td>\n",
       "      <td>0.0</td>\n",
       "      <td>0.0</td>\n",
       "      <td>0.0</td>\n",
       "      <td>0.0</td>\n",
       "      <td>0.0</td>\n",
       "      <td>0.0</td>\n",
       "      <td>0.0</td>\n",
       "    </tr>\n",
       "    <tr>\n",
       "      <th>0e042c38c23f</th>\n",
       "      <td>0.0</td>\n",
       "      <td>0.0</td>\n",
       "      <td>0.0</td>\n",
       "      <td>0.0</td>\n",
       "      <td>0.0</td>\n",
       "      <td>0.0</td>\n",
       "      <td>0.0</td>\n",
       "      <td>0.0</td>\n",
       "      <td>0.0</td>\n",
       "      <td>0.0</td>\n",
       "      <td>...</td>\n",
       "      <td>0.0</td>\n",
       "      <td>0.0</td>\n",
       "      <td>0.0</td>\n",
       "      <td>0.0</td>\n",
       "      <td>0.0</td>\n",
       "      <td>0.0</td>\n",
       "      <td>0.0</td>\n",
       "      <td>0.0</td>\n",
       "      <td>0.0</td>\n",
       "      <td>0.0</td>\n",
       "    </tr>\n",
       "    <tr>\n",
       "      <th>b75cb93d4ea7</th>\n",
       "      <td>0.0</td>\n",
       "      <td>0.0</td>\n",
       "      <td>0.0</td>\n",
       "      <td>0.0</td>\n",
       "      <td>0.0</td>\n",
       "      <td>0.0</td>\n",
       "      <td>0.0</td>\n",
       "      <td>0.0</td>\n",
       "      <td>0.0</td>\n",
       "      <td>0.0</td>\n",
       "      <td>...</td>\n",
       "      <td>0.0</td>\n",
       "      <td>0.0</td>\n",
       "      <td>0.0</td>\n",
       "      <td>0.0</td>\n",
       "      <td>0.0</td>\n",
       "      <td>0.0</td>\n",
       "      <td>0.0</td>\n",
       "      <td>0.0</td>\n",
       "      <td>0.0</td>\n",
       "      <td>0.0</td>\n",
       "    </tr>\n",
       "    <tr>\n",
       "      <th>4a83971f6b90</th>\n",
       "      <td>0.0</td>\n",
       "      <td>0.0</td>\n",
       "      <td>0.0</td>\n",
       "      <td>0.0</td>\n",
       "      <td>0.0</td>\n",
       "      <td>0.0</td>\n",
       "      <td>0.0</td>\n",
       "      <td>0.0</td>\n",
       "      <td>0.0</td>\n",
       "      <td>0.0</td>\n",
       "      <td>...</td>\n",
       "      <td>0.0</td>\n",
       "      <td>0.0</td>\n",
       "      <td>0.0</td>\n",
       "      <td>0.0</td>\n",
       "      <td>0.0</td>\n",
       "      <td>0.0</td>\n",
       "      <td>0.0</td>\n",
       "      <td>0.0</td>\n",
       "      <td>0.0</td>\n",
       "      <td>0.0</td>\n",
       "    </tr>\n",
       "    <tr>\n",
       "      <th>901dc731f928</th>\n",
       "      <td>0.0</td>\n",
       "      <td>0.0</td>\n",
       "      <td>0.0</td>\n",
       "      <td>0.0</td>\n",
       "      <td>0.0</td>\n",
       "      <td>0.0</td>\n",
       "      <td>0.0</td>\n",
       "      <td>0.0</td>\n",
       "      <td>0.0</td>\n",
       "      <td>0.0</td>\n",
       "      <td>...</td>\n",
       "      <td>0.0</td>\n",
       "      <td>0.0</td>\n",
       "      <td>0.0</td>\n",
       "      <td>0.0</td>\n",
       "      <td>0.0</td>\n",
       "      <td>0.0</td>\n",
       "      <td>0.0</td>\n",
       "      <td>0.0</td>\n",
       "      <td>0.0</td>\n",
       "      <td>0.0</td>\n",
       "    </tr>\n",
       "    <tr>\n",
       "      <th>...</th>\n",
       "      <td>...</td>\n",
       "      <td>...</td>\n",
       "      <td>...</td>\n",
       "      <td>...</td>\n",
       "      <td>...</td>\n",
       "      <td>...</td>\n",
       "      <td>...</td>\n",
       "      <td>...</td>\n",
       "      <td>...</td>\n",
       "      <td>...</td>\n",
       "      <td>...</td>\n",
       "      <td>...</td>\n",
       "      <td>...</td>\n",
       "      <td>...</td>\n",
       "      <td>...</td>\n",
       "      <td>...</td>\n",
       "      <td>...</td>\n",
       "      <td>...</td>\n",
       "      <td>...</td>\n",
       "      <td>...</td>\n",
       "      <td>...</td>\n",
       "    </tr>\n",
       "    <tr>\n",
       "      <th>a002713816d9</th>\n",
       "      <td>0.0</td>\n",
       "      <td>0.0</td>\n",
       "      <td>0.0</td>\n",
       "      <td>0.0</td>\n",
       "      <td>0.0</td>\n",
       "      <td>0.0</td>\n",
       "      <td>0.0</td>\n",
       "      <td>0.0</td>\n",
       "      <td>0.0</td>\n",
       "      <td>0.0</td>\n",
       "      <td>...</td>\n",
       "      <td>0.0</td>\n",
       "      <td>0.0</td>\n",
       "      <td>0.0</td>\n",
       "      <td>0.0</td>\n",
       "      <td>0.0</td>\n",
       "      <td>0.0</td>\n",
       "      <td>0.0</td>\n",
       "      <td>0.0</td>\n",
       "      <td>0.0</td>\n",
       "      <td>0.0</td>\n",
       "    </tr>\n",
       "    <tr>\n",
       "      <th>4a6c3478573e</th>\n",
       "      <td>0.0</td>\n",
       "      <td>0.0</td>\n",
       "      <td>0.0</td>\n",
       "      <td>0.0</td>\n",
       "      <td>0.0</td>\n",
       "      <td>0.0</td>\n",
       "      <td>0.0</td>\n",
       "      <td>0.0</td>\n",
       "      <td>0.0</td>\n",
       "      <td>0.0</td>\n",
       "      <td>...</td>\n",
       "      <td>0.0</td>\n",
       "      <td>0.0</td>\n",
       "      <td>0.0</td>\n",
       "      <td>0.0</td>\n",
       "      <td>0.0</td>\n",
       "      <td>0.0</td>\n",
       "      <td>0.0</td>\n",
       "      <td>0.0</td>\n",
       "      <td>0.0</td>\n",
       "      <td>0.0</td>\n",
       "    </tr>\n",
       "    <tr>\n",
       "      <th>9e9b116b60d7</th>\n",
       "      <td>0.0</td>\n",
       "      <td>0.0</td>\n",
       "      <td>0.0</td>\n",
       "      <td>0.0</td>\n",
       "      <td>0.0</td>\n",
       "      <td>0.0</td>\n",
       "      <td>0.0</td>\n",
       "      <td>0.0</td>\n",
       "      <td>0.0</td>\n",
       "      <td>0.0</td>\n",
       "      <td>...</td>\n",
       "      <td>0.0</td>\n",
       "      <td>0.0</td>\n",
       "      <td>0.0</td>\n",
       "      <td>0.0</td>\n",
       "      <td>0.0</td>\n",
       "      <td>0.0</td>\n",
       "      <td>0.0</td>\n",
       "      <td>0.0</td>\n",
       "      <td>0.0</td>\n",
       "      <td>0.0</td>\n",
       "    </tr>\n",
       "    <tr>\n",
       "      <th>17c51749067e</th>\n",
       "      <td>0.0</td>\n",
       "      <td>0.0</td>\n",
       "      <td>0.0</td>\n",
       "      <td>0.0</td>\n",
       "      <td>0.0</td>\n",
       "      <td>0.0</td>\n",
       "      <td>0.0</td>\n",
       "      <td>0.0</td>\n",
       "      <td>0.0</td>\n",
       "      <td>0.0</td>\n",
       "      <td>...</td>\n",
       "      <td>0.0</td>\n",
       "      <td>0.0</td>\n",
       "      <td>0.0</td>\n",
       "      <td>0.0</td>\n",
       "      <td>0.0</td>\n",
       "      <td>0.0</td>\n",
       "      <td>0.0</td>\n",
       "      <td>0.0</td>\n",
       "      <td>0.0</td>\n",
       "      <td>0.0</td>\n",
       "    </tr>\n",
       "    <tr>\n",
       "      <th>8cccdb476052</th>\n",
       "      <td>0.0</td>\n",
       "      <td>0.0</td>\n",
       "      <td>0.0</td>\n",
       "      <td>0.0</td>\n",
       "      <td>0.0</td>\n",
       "      <td>0.0</td>\n",
       "      <td>0.0</td>\n",
       "      <td>0.0</td>\n",
       "      <td>0.0</td>\n",
       "      <td>0.0</td>\n",
       "      <td>...</td>\n",
       "      <td>0.0</td>\n",
       "      <td>0.0</td>\n",
       "      <td>0.0</td>\n",
       "      <td>0.0</td>\n",
       "      <td>0.0</td>\n",
       "      <td>0.0</td>\n",
       "      <td>0.0</td>\n",
       "      <td>0.0</td>\n",
       "      <td>0.0</td>\n",
       "      <td>0.0</td>\n",
       "    </tr>\n",
       "  </tbody>\n",
       "</table>\n",
       "<p>5000 rows × 228942 columns</p>\n",
       "</div>"
      ],
      "text/plain": [
       "gene_id       GL000194.1:114519-115365  GL000194.1:55758-56597  \\\n",
       "cell_id                                                          \n",
       "9423819a6d94                       0.0                     0.0   \n",
       "0e042c38c23f                       0.0                     0.0   \n",
       "b75cb93d4ea7                       0.0                     0.0   \n",
       "4a83971f6b90                       0.0                     0.0   \n",
       "901dc731f928                       0.0                     0.0   \n",
       "...                                ...                     ...   \n",
       "a002713816d9                       0.0                     0.0   \n",
       "4a6c3478573e                       0.0                     0.0   \n",
       "9e9b116b60d7                       0.0                     0.0   \n",
       "17c51749067e                       0.0                     0.0   \n",
       "8cccdb476052                       0.0                     0.0   \n",
       "\n",
       "gene_id       GL000194.1:58217-58957  GL000194.1:59535-60431  \\\n",
       "cell_id                                                        \n",
       "9423819a6d94                     0.0                     0.0   \n",
       "0e042c38c23f                     0.0                     0.0   \n",
       "b75cb93d4ea7                     0.0                     0.0   \n",
       "4a83971f6b90                     0.0                     0.0   \n",
       "901dc731f928                     0.0                     0.0   \n",
       "...                              ...                     ...   \n",
       "a002713816d9                     0.0                     0.0   \n",
       "4a6c3478573e                     0.0                     0.0   \n",
       "9e9b116b60d7                     0.0                     0.0   \n",
       "17c51749067e                     0.0                     0.0   \n",
       "8cccdb476052                     0.0                     0.0   \n",
       "\n",
       "gene_id       GL000195.1:119766-120427  GL000195.1:120736-121603  \\\n",
       "cell_id                                                            \n",
       "9423819a6d94                       0.0                       0.0   \n",
       "0e042c38c23f                       0.0                       0.0   \n",
       "b75cb93d4ea7                       0.0                       0.0   \n",
       "4a83971f6b90                       0.0                       0.0   \n",
       "901dc731f928                       0.0                       0.0   \n",
       "...                                ...                       ...   \n",
       "a002713816d9                       0.0                       0.0   \n",
       "4a6c3478573e                       0.0                       0.0   \n",
       "9e9b116b60d7                       0.0                       0.0   \n",
       "17c51749067e                       0.0                       0.0   \n",
       "8cccdb476052                       0.0                       0.0   \n",
       "\n",
       "gene_id       GL000195.1:137437-138345  GL000195.1:15901-16653  \\\n",
       "cell_id                                                          \n",
       "9423819a6d94                       0.0                     0.0   \n",
       "0e042c38c23f                       0.0                     0.0   \n",
       "b75cb93d4ea7                       0.0                     0.0   \n",
       "4a83971f6b90                       0.0                     0.0   \n",
       "901dc731f928                       0.0                     0.0   \n",
       "...                                ...                     ...   \n",
       "a002713816d9                       0.0                     0.0   \n",
       "4a6c3478573e                       0.0                     0.0   \n",
       "9e9b116b60d7                       0.0                     0.0   \n",
       "17c51749067e                       0.0                     0.0   \n",
       "8cccdb476052                       0.0                     0.0   \n",
       "\n",
       "gene_id       GL000195.1:22357-23209  GL000195.1:23751-24619  ...  \\\n",
       "cell_id                                                       ...   \n",
       "9423819a6d94                     0.0                     0.0  ...   \n",
       "0e042c38c23f                     0.0                     0.0  ...   \n",
       "b75cb93d4ea7                     0.0                     0.0  ...   \n",
       "4a83971f6b90                     0.0                     0.0  ...   \n",
       "901dc731f928                     0.0                     0.0  ...   \n",
       "...                              ...                     ...  ...   \n",
       "a002713816d9                     0.0                     0.0  ...   \n",
       "4a6c3478573e                     0.0                     0.0  ...   \n",
       "9e9b116b60d7                     0.0                     0.0  ...   \n",
       "17c51749067e                     0.0                     0.0  ...   \n",
       "8cccdb476052                     0.0                     0.0  ...   \n",
       "\n",
       "gene_id       chrY:7722278-7723128  chrY:7723971-7724880  \\\n",
       "cell_id                                                    \n",
       "9423819a6d94                   0.0                   0.0   \n",
       "0e042c38c23f                   0.0                   0.0   \n",
       "b75cb93d4ea7                   0.0                   0.0   \n",
       "4a83971f6b90                   0.0                   0.0   \n",
       "901dc731f928                   0.0                   0.0   \n",
       "...                            ...                   ...   \n",
       "a002713816d9                   0.0                   0.0   \n",
       "4a6c3478573e                   0.0                   0.0   \n",
       "9e9b116b60d7                   0.0                   0.0   \n",
       "17c51749067e                   0.0                   0.0   \n",
       "8cccdb476052                   0.0                   0.0   \n",
       "\n",
       "gene_id       chrY:7729854-7730772  chrY:7731785-7732664  \\\n",
       "cell_id                                                    \n",
       "9423819a6d94                   0.0                   0.0   \n",
       "0e042c38c23f                   0.0                   0.0   \n",
       "b75cb93d4ea7                   0.0                   0.0   \n",
       "4a83971f6b90                   0.0                   0.0   \n",
       "901dc731f928                   0.0                   0.0   \n",
       "...                            ...                   ...   \n",
       "a002713816d9                   0.0                   0.0   \n",
       "4a6c3478573e                   0.0                   0.0   \n",
       "9e9b116b60d7                   0.0                   0.0   \n",
       "17c51749067e                   0.0                   0.0   \n",
       "8cccdb476052                   0.0                   0.0   \n",
       "\n",
       "gene_id       chrY:7810142-7811040  chrY:7814107-7815018  \\\n",
       "cell_id                                                    \n",
       "9423819a6d94                   0.0                   0.0   \n",
       "0e042c38c23f                   0.0                   0.0   \n",
       "b75cb93d4ea7                   0.0                   0.0   \n",
       "4a83971f6b90                   0.0                   0.0   \n",
       "901dc731f928                   0.0                   0.0   \n",
       "...                            ...                   ...   \n",
       "a002713816d9                   0.0                   0.0   \n",
       "4a6c3478573e                   0.0                   0.0   \n",
       "9e9b116b60d7                   0.0                   0.0   \n",
       "17c51749067e                   0.0                   0.0   \n",
       "8cccdb476052                   0.0                   0.0   \n",
       "\n",
       "gene_id       chrY:7818751-7819626  chrY:7836768-7837671  \\\n",
       "cell_id                                                    \n",
       "9423819a6d94                   0.0                   0.0   \n",
       "0e042c38c23f                   0.0                   0.0   \n",
       "b75cb93d4ea7                   0.0                   0.0   \n",
       "4a83971f6b90                   0.0                   0.0   \n",
       "901dc731f928                   0.0                   0.0   \n",
       "...                            ...                   ...   \n",
       "a002713816d9                   0.0                   0.0   \n",
       "4a6c3478573e                   0.0                   0.0   \n",
       "9e9b116b60d7                   0.0                   0.0   \n",
       "17c51749067e                   0.0                   0.0   \n",
       "8cccdb476052                   0.0                   0.0   \n",
       "\n",
       "gene_id       chrY:7869454-7870371  chrY:7873814-7874709  \n",
       "cell_id                                                   \n",
       "9423819a6d94                   0.0                   0.0  \n",
       "0e042c38c23f                   0.0                   0.0  \n",
       "b75cb93d4ea7                   0.0                   0.0  \n",
       "4a83971f6b90                   0.0                   0.0  \n",
       "901dc731f928                   0.0                   0.0  \n",
       "...                            ...                   ...  \n",
       "a002713816d9                   0.0                   0.0  \n",
       "4a6c3478573e                   0.0                   0.0  \n",
       "9e9b116b60d7                   0.0                   0.0  \n",
       "17c51749067e                   0.0                   0.0  \n",
       "8cccdb476052                   0.0                   0.0  \n",
       "\n",
       "[5000 rows x 228942 columns]"
      ]
     },
     "execution_count": 5,
     "metadata": {},
     "output_type": "execute_result"
    }
   ],
   "source": [
    "np.random.seed(1)\n",
    "sample_df_atac = pd.DataFrame([])\n",
    "\n",
    "for i in range(5):\n",
    "    random_index = np.random.randint(0, DATA_LENGTH-1000)\n",
    "    df_multi_train_partial = pd.read_hdf(\n",
    "        os.path.join(data_dir, \"train_multi_inputs.h5\"), start=random_index, stop=random_index+1000\n",
    "    )\n",
    "    sample_df_atac = pd.concat([sample_df_atac, df_multi_train_partial])\n",
    "    \n",
    "gc.collect()\n",
    "sample_df_atac"
   ]
  },
  {
   "cell_type": "code",
   "execution_count": 6,
   "metadata": {},
   "outputs": [
    {
     "data": {
      "text/plain": [
       "AnnData object with n_obs × n_vars = 5000 × 228942\n",
       "    obs: 'cell_id'\n",
       "    var: 'gene_id'"
      ]
     },
     "execution_count": 6,
     "metadata": {},
     "output_type": "execute_result"
    }
   ],
   "source": [
    "# Creating AnnData Object\n",
    "adata_sample_atac = sc.AnnData(sample_df_atac,\n",
    "    sample_df_atac.index.to_frame(),\n",
    "    sample_df_atac.columns.to_frame())\n",
    "adata_sample_atac"
   ]
  },
  {
   "cell_type": "code",
   "execution_count": 7,
   "metadata": {},
   "outputs": [
    {
     "data": {
      "text/plain": [
       "AnnData object with n_obs × n_vars = 5000 × 10000\n",
       "    obs: 'cell_id'\n",
       "    var: 'gene_id', 'highly_variable', 'means', 'dispersions', 'dispersions_norm'\n",
       "    uns: 'log1p', 'hvg'"
      ]
     },
     "execution_count": 7,
     "metadata": {},
     "output_type": "execute_result"
    }
   ],
   "source": [
    "sc.pp.normalize_total(adata_sample_atac, target_sum=1e4)\n",
    "sc.pp.log1p(adata_sample_atac)\n",
    "sc.pp.highly_variable_genes(adata_sample_atac, n_top_genes=10000)\n",
    "\n",
    "adata_atac_hvf = adata_sample_atac[:, adata_sample_atac.var.highly_variable].copy()\n",
    "adata_atac_hvf"
   ]
  },
  {
   "cell_type": "code",
   "execution_count": 8,
   "metadata": {},
   "outputs": [],
   "source": [
    "adata_atac_hvf.var[adata_atac_hvf.var.columns[:1]].to_csv(os.path.join(data_dir, \"hv_peaks.csv\"))"
   ]
  },
  {
   "cell_type": "code",
   "execution_count": 9,
   "metadata": {},
   "outputs": [
    {
     "data": {
      "text/plain": [
       "0"
      ]
     },
     "execution_count": 9,
     "metadata": {},
     "output_type": "execute_result"
    }
   ],
   "source": [
    "del adata_atac_hvf, adata_sample_atac, sample_df_atac, df_multi_train_partial\n",
    "gc.collect()"
   ]
  },
  {
   "cell_type": "markdown",
   "metadata": {},
   "source": [
    "### Finding Highly Variable Genes"
   ]
  },
  {
   "cell_type": "code",
   "execution_count": 52,
   "metadata": {},
   "outputs": [
    {
     "data": {
      "text/html": [
       "<div>\n",
       "<style scoped>\n",
       "    .dataframe tbody tr th:only-of-type {\n",
       "        vertical-align: middle;\n",
       "    }\n",
       "\n",
       "    .dataframe tbody tr th {\n",
       "        vertical-align: top;\n",
       "    }\n",
       "\n",
       "    .dataframe thead th {\n",
       "        text-align: right;\n",
       "    }\n",
       "</style>\n",
       "<table border=\"1\" class=\"dataframe\">\n",
       "  <thead>\n",
       "    <tr style=\"text-align: right;\">\n",
       "      <th>gene_id</th>\n",
       "      <th>ENSG00000121410</th>\n",
       "      <th>ENSG00000268895</th>\n",
       "      <th>ENSG00000175899</th>\n",
       "      <th>ENSG00000245105</th>\n",
       "      <th>ENSG00000166535</th>\n",
       "      <th>ENSG00000256661</th>\n",
       "      <th>ENSG00000184389</th>\n",
       "      <th>ENSG00000128274</th>\n",
       "      <th>ENSG00000094914</th>\n",
       "      <th>ENSG00000081760</th>\n",
       "      <th>...</th>\n",
       "      <th>ENSG00000086827</th>\n",
       "      <th>ENSG00000174442</th>\n",
       "      <th>ENSG00000122952</th>\n",
       "      <th>ENSG00000198205</th>\n",
       "      <th>ENSG00000198455</th>\n",
       "      <th>ENSG00000070476</th>\n",
       "      <th>ENSG00000203995</th>\n",
       "      <th>ENSG00000162378</th>\n",
       "      <th>ENSG00000159840</th>\n",
       "      <th>ENSG00000074755</th>\n",
       "    </tr>\n",
       "    <tr>\n",
       "      <th>cell_id</th>\n",
       "      <th></th>\n",
       "      <th></th>\n",
       "      <th></th>\n",
       "      <th></th>\n",
       "      <th></th>\n",
       "      <th></th>\n",
       "      <th></th>\n",
       "      <th></th>\n",
       "      <th></th>\n",
       "      <th></th>\n",
       "      <th></th>\n",
       "      <th></th>\n",
       "      <th></th>\n",
       "      <th></th>\n",
       "      <th></th>\n",
       "      <th></th>\n",
       "      <th></th>\n",
       "      <th></th>\n",
       "      <th></th>\n",
       "      <th></th>\n",
       "      <th></th>\n",
       "    </tr>\n",
       "  </thead>\n",
       "  <tbody>\n",
       "    <tr>\n",
       "      <th>9423819a6d94</th>\n",
       "      <td>0.0</td>\n",
       "      <td>0.000000</td>\n",
       "      <td>0.000000</td>\n",
       "      <td>0.0</td>\n",
       "      <td>0.0</td>\n",
       "      <td>0.000000</td>\n",
       "      <td>0.0</td>\n",
       "      <td>0.0</td>\n",
       "      <td>0.000000</td>\n",
       "      <td>0.000000</td>\n",
       "      <td>...</td>\n",
       "      <td>0.000000</td>\n",
       "      <td>0.000000</td>\n",
       "      <td>4.903240</td>\n",
       "      <td>0.0</td>\n",
       "      <td>0.0</td>\n",
       "      <td>5.592669</td>\n",
       "      <td>0.0</td>\n",
       "      <td>0.000000</td>\n",
       "      <td>0.000000</td>\n",
       "      <td>5.592669</td>\n",
       "    </tr>\n",
       "    <tr>\n",
       "      <th>0e042c38c23f</th>\n",
       "      <td>0.0</td>\n",
       "      <td>0.000000</td>\n",
       "      <td>0.000000</td>\n",
       "      <td>0.0</td>\n",
       "      <td>0.0</td>\n",
       "      <td>0.000000</td>\n",
       "      <td>0.0</td>\n",
       "      <td>0.0</td>\n",
       "      <td>4.270838</td>\n",
       "      <td>4.956975</td>\n",
       "      <td>...</td>\n",
       "      <td>0.000000</td>\n",
       "      <td>0.000000</td>\n",
       "      <td>4.270838</td>\n",
       "      <td>0.0</td>\n",
       "      <td>0.0</td>\n",
       "      <td>0.000000</td>\n",
       "      <td>0.0</td>\n",
       "      <td>0.000000</td>\n",
       "      <td>0.000000</td>\n",
       "      <td>4.270838</td>\n",
       "    </tr>\n",
       "    <tr>\n",
       "      <th>b75cb93d4ea7</th>\n",
       "      <td>0.0</td>\n",
       "      <td>0.000000</td>\n",
       "      <td>0.000000</td>\n",
       "      <td>0.0</td>\n",
       "      <td>0.0</td>\n",
       "      <td>0.000000</td>\n",
       "      <td>0.0</td>\n",
       "      <td>0.0</td>\n",
       "      <td>0.000000</td>\n",
       "      <td>0.000000</td>\n",
       "      <td>...</td>\n",
       "      <td>0.000000</td>\n",
       "      <td>0.000000</td>\n",
       "      <td>0.000000</td>\n",
       "      <td>0.0</td>\n",
       "      <td>0.0</td>\n",
       "      <td>0.000000</td>\n",
       "      <td>0.0</td>\n",
       "      <td>0.000000</td>\n",
       "      <td>0.000000</td>\n",
       "      <td>5.848005</td>\n",
       "    </tr>\n",
       "    <tr>\n",
       "      <th>4a83971f6b90</th>\n",
       "      <td>0.0</td>\n",
       "      <td>0.000000</td>\n",
       "      <td>0.000000</td>\n",
       "      <td>0.0</td>\n",
       "      <td>0.0</td>\n",
       "      <td>0.000000</td>\n",
       "      <td>0.0</td>\n",
       "      <td>0.0</td>\n",
       "      <td>0.000000</td>\n",
       "      <td>0.000000</td>\n",
       "      <td>...</td>\n",
       "      <td>0.000000</td>\n",
       "      <td>5.342478</td>\n",
       "      <td>5.342478</td>\n",
       "      <td>0.0</td>\n",
       "      <td>0.0</td>\n",
       "      <td>5.342478</td>\n",
       "      <td>0.0</td>\n",
       "      <td>0.000000</td>\n",
       "      <td>0.000000</td>\n",
       "      <td>6.033230</td>\n",
       "    </tr>\n",
       "    <tr>\n",
       "      <th>901dc731f928</th>\n",
       "      <td>0.0</td>\n",
       "      <td>0.000000</td>\n",
       "      <td>0.000000</td>\n",
       "      <td>0.0</td>\n",
       "      <td>0.0</td>\n",
       "      <td>0.000000</td>\n",
       "      <td>0.0</td>\n",
       "      <td>0.0</td>\n",
       "      <td>0.000000</td>\n",
       "      <td>0.000000</td>\n",
       "      <td>...</td>\n",
       "      <td>0.000000</td>\n",
       "      <td>0.000000</td>\n",
       "      <td>0.000000</td>\n",
       "      <td>0.0</td>\n",
       "      <td>0.0</td>\n",
       "      <td>0.000000</td>\n",
       "      <td>0.0</td>\n",
       "      <td>0.000000</td>\n",
       "      <td>0.000000</td>\n",
       "      <td>6.005802</td>\n",
       "    </tr>\n",
       "    <tr>\n",
       "      <th>...</th>\n",
       "      <td>...</td>\n",
       "      <td>...</td>\n",
       "      <td>...</td>\n",
       "      <td>...</td>\n",
       "      <td>...</td>\n",
       "      <td>...</td>\n",
       "      <td>...</td>\n",
       "      <td>...</td>\n",
       "      <td>...</td>\n",
       "      <td>...</td>\n",
       "      <td>...</td>\n",
       "      <td>...</td>\n",
       "      <td>...</td>\n",
       "      <td>...</td>\n",
       "      <td>...</td>\n",
       "      <td>...</td>\n",
       "      <td>...</td>\n",
       "      <td>...</td>\n",
       "      <td>...</td>\n",
       "      <td>...</td>\n",
       "      <td>...</td>\n",
       "    </tr>\n",
       "    <tr>\n",
       "      <th>a002713816d9</th>\n",
       "      <td>0.0</td>\n",
       "      <td>0.000000</td>\n",
       "      <td>4.957466</td>\n",
       "      <td>0.0</td>\n",
       "      <td>0.0</td>\n",
       "      <td>4.271325</td>\n",
       "      <td>0.0</td>\n",
       "      <td>0.0</td>\n",
       "      <td>0.000000</td>\n",
       "      <td>0.000000</td>\n",
       "      <td>...</td>\n",
       "      <td>0.000000</td>\n",
       "      <td>4.957466</td>\n",
       "      <td>0.000000</td>\n",
       "      <td>0.0</td>\n",
       "      <td>0.0</td>\n",
       "      <td>4.957466</td>\n",
       "      <td>0.0</td>\n",
       "      <td>0.000000</td>\n",
       "      <td>0.000000</td>\n",
       "      <td>4.957466</td>\n",
       "    </tr>\n",
       "    <tr>\n",
       "      <th>4a6c3478573e</th>\n",
       "      <td>0.0</td>\n",
       "      <td>0.000000</td>\n",
       "      <td>3.900574</td>\n",
       "      <td>0.0</td>\n",
       "      <td>0.0</td>\n",
       "      <td>0.000000</td>\n",
       "      <td>0.0</td>\n",
       "      <td>0.0</td>\n",
       "      <td>3.900574</td>\n",
       "      <td>0.000000</td>\n",
       "      <td>...</td>\n",
       "      <td>0.000000</td>\n",
       "      <td>4.985608</td>\n",
       "      <td>0.000000</td>\n",
       "      <td>0.0</td>\n",
       "      <td>0.0</td>\n",
       "      <td>0.000000</td>\n",
       "      <td>0.0</td>\n",
       "      <td>0.000000</td>\n",
       "      <td>3.900574</td>\n",
       "      <td>4.583555</td>\n",
       "    </tr>\n",
       "    <tr>\n",
       "      <th>9e9b116b60d7</th>\n",
       "      <td>0.0</td>\n",
       "      <td>0.000000</td>\n",
       "      <td>0.000000</td>\n",
       "      <td>0.0</td>\n",
       "      <td>0.0</td>\n",
       "      <td>0.000000</td>\n",
       "      <td>0.0</td>\n",
       "      <td>0.0</td>\n",
       "      <td>0.000000</td>\n",
       "      <td>0.000000</td>\n",
       "      <td>...</td>\n",
       "      <td>4.998633</td>\n",
       "      <td>4.312210</td>\n",
       "      <td>0.000000</td>\n",
       "      <td>0.0</td>\n",
       "      <td>0.0</td>\n",
       "      <td>4.998633</td>\n",
       "      <td>0.0</td>\n",
       "      <td>4.998633</td>\n",
       "      <td>4.312210</td>\n",
       "      <td>5.401846</td>\n",
       "    </tr>\n",
       "    <tr>\n",
       "      <th>17c51749067e</th>\n",
       "      <td>0.0</td>\n",
       "      <td>4.638669</td>\n",
       "      <td>4.638669</td>\n",
       "      <td>0.0</td>\n",
       "      <td>0.0</td>\n",
       "      <td>0.000000</td>\n",
       "      <td>0.0</td>\n",
       "      <td>0.0</td>\n",
       "      <td>0.000000</td>\n",
       "      <td>0.000000</td>\n",
       "      <td>...</td>\n",
       "      <td>4.638669</td>\n",
       "      <td>0.000000</td>\n",
       "      <td>4.638669</td>\n",
       "      <td>0.0</td>\n",
       "      <td>0.0</td>\n",
       "      <td>5.326969</td>\n",
       "      <td>0.0</td>\n",
       "      <td>0.000000</td>\n",
       "      <td>4.638669</td>\n",
       "      <td>4.638669</td>\n",
       "    </tr>\n",
       "    <tr>\n",
       "      <th>8cccdb476052</th>\n",
       "      <td>0.0</td>\n",
       "      <td>0.000000</td>\n",
       "      <td>0.000000</td>\n",
       "      <td>0.0</td>\n",
       "      <td>0.0</td>\n",
       "      <td>0.000000</td>\n",
       "      <td>0.0</td>\n",
       "      <td>0.0</td>\n",
       "      <td>0.000000</td>\n",
       "      <td>0.000000</td>\n",
       "      <td>...</td>\n",
       "      <td>0.000000</td>\n",
       "      <td>0.000000</td>\n",
       "      <td>0.000000</td>\n",
       "      <td>0.0</td>\n",
       "      <td>0.0</td>\n",
       "      <td>0.000000</td>\n",
       "      <td>0.0</td>\n",
       "      <td>5.273316</td>\n",
       "      <td>4.585282</td>\n",
       "      <td>4.585282</td>\n",
       "    </tr>\n",
       "  </tbody>\n",
       "</table>\n",
       "<p>5000 rows × 23418 columns</p>\n",
       "</div>"
      ],
      "text/plain": [
       "gene_id       ENSG00000121410  ENSG00000268895  ENSG00000175899  \\\n",
       "cell_id                                                           \n",
       "9423819a6d94              0.0         0.000000         0.000000   \n",
       "0e042c38c23f              0.0         0.000000         0.000000   \n",
       "b75cb93d4ea7              0.0         0.000000         0.000000   \n",
       "4a83971f6b90              0.0         0.000000         0.000000   \n",
       "901dc731f928              0.0         0.000000         0.000000   \n",
       "...                       ...              ...              ...   \n",
       "a002713816d9              0.0         0.000000         4.957466   \n",
       "4a6c3478573e              0.0         0.000000         3.900574   \n",
       "9e9b116b60d7              0.0         0.000000         0.000000   \n",
       "17c51749067e              0.0         4.638669         4.638669   \n",
       "8cccdb476052              0.0         0.000000         0.000000   \n",
       "\n",
       "gene_id       ENSG00000245105  ENSG00000166535  ENSG00000256661  \\\n",
       "cell_id                                                           \n",
       "9423819a6d94              0.0              0.0         0.000000   \n",
       "0e042c38c23f              0.0              0.0         0.000000   \n",
       "b75cb93d4ea7              0.0              0.0         0.000000   \n",
       "4a83971f6b90              0.0              0.0         0.000000   \n",
       "901dc731f928              0.0              0.0         0.000000   \n",
       "...                       ...              ...              ...   \n",
       "a002713816d9              0.0              0.0         4.271325   \n",
       "4a6c3478573e              0.0              0.0         0.000000   \n",
       "9e9b116b60d7              0.0              0.0         0.000000   \n",
       "17c51749067e              0.0              0.0         0.000000   \n",
       "8cccdb476052              0.0              0.0         0.000000   \n",
       "\n",
       "gene_id       ENSG00000184389  ENSG00000128274  ENSG00000094914  \\\n",
       "cell_id                                                           \n",
       "9423819a6d94              0.0              0.0         0.000000   \n",
       "0e042c38c23f              0.0              0.0         4.270838   \n",
       "b75cb93d4ea7              0.0              0.0         0.000000   \n",
       "4a83971f6b90              0.0              0.0         0.000000   \n",
       "901dc731f928              0.0              0.0         0.000000   \n",
       "...                       ...              ...              ...   \n",
       "a002713816d9              0.0              0.0         0.000000   \n",
       "4a6c3478573e              0.0              0.0         3.900574   \n",
       "9e9b116b60d7              0.0              0.0         0.000000   \n",
       "17c51749067e              0.0              0.0         0.000000   \n",
       "8cccdb476052              0.0              0.0         0.000000   \n",
       "\n",
       "gene_id       ENSG00000081760  ...  ENSG00000086827  ENSG00000174442  \\\n",
       "cell_id                        ...                                     \n",
       "9423819a6d94         0.000000  ...         0.000000         0.000000   \n",
       "0e042c38c23f         4.956975  ...         0.000000         0.000000   \n",
       "b75cb93d4ea7         0.000000  ...         0.000000         0.000000   \n",
       "4a83971f6b90         0.000000  ...         0.000000         5.342478   \n",
       "901dc731f928         0.000000  ...         0.000000         0.000000   \n",
       "...                       ...  ...              ...              ...   \n",
       "a002713816d9         0.000000  ...         0.000000         4.957466   \n",
       "4a6c3478573e         0.000000  ...         0.000000         4.985608   \n",
       "9e9b116b60d7         0.000000  ...         4.998633         4.312210   \n",
       "17c51749067e         0.000000  ...         4.638669         0.000000   \n",
       "8cccdb476052         0.000000  ...         0.000000         0.000000   \n",
       "\n",
       "gene_id       ENSG00000122952  ENSG00000198205  ENSG00000198455  \\\n",
       "cell_id                                                           \n",
       "9423819a6d94         4.903240              0.0              0.0   \n",
       "0e042c38c23f         4.270838              0.0              0.0   \n",
       "b75cb93d4ea7         0.000000              0.0              0.0   \n",
       "4a83971f6b90         5.342478              0.0              0.0   \n",
       "901dc731f928         0.000000              0.0              0.0   \n",
       "...                       ...              ...              ...   \n",
       "a002713816d9         0.000000              0.0              0.0   \n",
       "4a6c3478573e         0.000000              0.0              0.0   \n",
       "9e9b116b60d7         0.000000              0.0              0.0   \n",
       "17c51749067e         4.638669              0.0              0.0   \n",
       "8cccdb476052         0.000000              0.0              0.0   \n",
       "\n",
       "gene_id       ENSG00000070476  ENSG00000203995  ENSG00000162378  \\\n",
       "cell_id                                                           \n",
       "9423819a6d94         5.592669              0.0         0.000000   \n",
       "0e042c38c23f         0.000000              0.0         0.000000   \n",
       "b75cb93d4ea7         0.000000              0.0         0.000000   \n",
       "4a83971f6b90         5.342478              0.0         0.000000   \n",
       "901dc731f928         0.000000              0.0         0.000000   \n",
       "...                       ...              ...              ...   \n",
       "a002713816d9         4.957466              0.0         0.000000   \n",
       "4a6c3478573e         0.000000              0.0         0.000000   \n",
       "9e9b116b60d7         4.998633              0.0         4.998633   \n",
       "17c51749067e         5.326969              0.0         0.000000   \n",
       "8cccdb476052         0.000000              0.0         5.273316   \n",
       "\n",
       "gene_id       ENSG00000159840  ENSG00000074755  \n",
       "cell_id                                         \n",
       "9423819a6d94         0.000000         5.592669  \n",
       "0e042c38c23f         0.000000         4.270838  \n",
       "b75cb93d4ea7         0.000000         5.848005  \n",
       "4a83971f6b90         0.000000         6.033230  \n",
       "901dc731f928         0.000000         6.005802  \n",
       "...                       ...              ...  \n",
       "a002713816d9         0.000000         4.957466  \n",
       "4a6c3478573e         3.900574         4.583555  \n",
       "9e9b116b60d7         4.312210         5.401846  \n",
       "17c51749067e         4.638669         4.638669  \n",
       "8cccdb476052         4.585282         4.585282  \n",
       "\n",
       "[5000 rows x 23418 columns]"
      ]
     },
     "execution_count": 52,
     "metadata": {},
     "output_type": "execute_result"
    }
   ],
   "source": [
    "np.random.seed(1)\n",
    "sample_df_rna = pd.DataFrame([])\n",
    "\n",
    "for i in range(5):\n",
    "    random_index = np.random.randint(0, DATA_LENGTH-1000)\n",
    "    df_multi_train_partial = pd.read_hdf(\n",
    "        os.path.join(data_dir, \"train_multi_targets.h5\"), start=random_index, stop=random_index+1000\n",
    "    )\n",
    "    sample_df_rna = pd.concat([sample_df_rna, df_multi_train_partial])\n",
    "    \n",
    "gc.collect()\n",
    "sample_df_rna"
   ]
  },
  {
   "cell_type": "code",
   "execution_count": 53,
   "metadata": {},
   "outputs": [
    {
     "data": {
      "text/plain": [
       "AnnData object with n_obs × n_vars = 5000 × 23418\n",
       "    obs: 'cell_id'\n",
       "    var: 'gene_id'"
      ]
     },
     "execution_count": 53,
     "metadata": {},
     "output_type": "execute_result"
    }
   ],
   "source": [
    "# Creating AnnData Object\n",
    "adata_sample_rna = sc.AnnData(sample_df_rna,\n",
    "    sample_df_rna.index.to_frame(),\n",
    "    sample_df_rna.columns.to_frame())\n",
    "adata_sample_rna"
   ]
  },
  {
   "cell_type": "code",
   "execution_count": 54,
   "metadata": {},
   "outputs": [
    {
     "data": {
      "text/plain": [
       "AnnData object with n_obs × n_vars = 5000 × 2000\n",
       "    obs: 'cell_id'\n",
       "    var: 'gene_id', 'highly_variable', 'means', 'dispersions', 'dispersions_norm'\n",
       "    uns: 'log1p', 'hvg'"
      ]
     },
     "execution_count": 54,
     "metadata": {},
     "output_type": "execute_result"
    }
   ],
   "source": [
    "sc.pp.normalize_total(adata_sample_rna, target_sum=1e4)\n",
    "sc.pp.log1p(adata_sample_rna)\n",
    "sc.pp.highly_variable_genes(adata_sample_rna, n_top_genes=2000)\n",
    "\n",
    "adata_rna_hvf = adata_sample_rna[:, adata_sample_rna.var.highly_variable].copy()\n",
    "adata_rna_hvf"
   ]
  },
  {
   "cell_type": "code",
   "execution_count": 55,
   "metadata": {},
   "outputs": [],
   "source": [
    "adata_rna_hvf.var[adata_rna_hvf.var.columns[:1]].to_csv(os.path.join(data_dir, \"hv_genes.csv\"))"
   ]
  },
  {
   "cell_type": "code",
   "execution_count": 56,
   "metadata": {},
   "outputs": [
    {
     "data": {
      "text/plain": [
       "34"
      ]
     },
     "execution_count": 56,
     "metadata": {},
     "output_type": "execute_result"
    }
   ],
   "source": [
    "del adata_rna_hvf, adata_sample_rna, sample_df_rna, df_multi_train_partial\n",
    "gc.collect()"
   ]
  },
  {
   "cell_type": "markdown",
   "metadata": {},
   "source": [
    "## Creating the smaller version of data"
   ]
  },
  {
   "cell_type": "markdown",
   "metadata": {},
   "source": [
    "### ATAC"
   ]
  },
  {
   "cell_type": "code",
   "execution_count": 5,
   "metadata": {
    "scrolled": false
   },
   "outputs": [
    {
     "data": {
      "text/html": [
       "<div>\n",
       "<style scoped>\n",
       "    .dataframe tbody tr th:only-of-type {\n",
       "        vertical-align: middle;\n",
       "    }\n",
       "\n",
       "    .dataframe tbody tr th {\n",
       "        vertical-align: top;\n",
       "    }\n",
       "\n",
       "    .dataframe thead th {\n",
       "        text-align: right;\n",
       "    }\n",
       "</style>\n",
       "<table border=\"1\" class=\"dataframe\">\n",
       "  <thead>\n",
       "    <tr style=\"text-align: right;\">\n",
       "      <th></th>\n",
       "      <th>gene_id</th>\n",
       "    </tr>\n",
       "    <tr>\n",
       "      <th>gene_id.1</th>\n",
       "      <th></th>\n",
       "    </tr>\n",
       "  </thead>\n",
       "  <tbody>\n",
       "    <tr>\n",
       "      <th>chr10:100013840-100014756</th>\n",
       "      <td>chr10:100013840-100014756</td>\n",
       "    </tr>\n",
       "    <tr>\n",
       "      <th>chr10:100255223-100255983</th>\n",
       "      <td>chr10:100255223-100255983</td>\n",
       "    </tr>\n",
       "    <tr>\n",
       "      <th>chr10:100370527-100371417</th>\n",
       "      <td>chr10:100370527-100371417</td>\n",
       "    </tr>\n",
       "    <tr>\n",
       "      <th>chr10:100564973-100565808</th>\n",
       "      <td>chr10:100564973-100565808</td>\n",
       "    </tr>\n",
       "    <tr>\n",
       "      <th>chr10:100650203-100651061</th>\n",
       "      <td>chr10:100650203-100651061</td>\n",
       "    </tr>\n",
       "    <tr>\n",
       "      <th>...</th>\n",
       "      <td>...</td>\n",
       "    </tr>\n",
       "    <tr>\n",
       "      <th>chrY:13227302-13228090</th>\n",
       "      <td>chrY:13227302-13228090</td>\n",
       "    </tr>\n",
       "    <tr>\n",
       "      <th>chrY:13738366-13739243</th>\n",
       "      <td>chrY:13738366-13739243</td>\n",
       "    </tr>\n",
       "    <tr>\n",
       "      <th>chrY:21180640-21181505</th>\n",
       "      <td>chrY:21180640-21181505</td>\n",
       "    </tr>\n",
       "    <tr>\n",
       "      <th>chrY:6908816-6909637</th>\n",
       "      <td>chrY:6908816-6909637</td>\n",
       "    </tr>\n",
       "    <tr>\n",
       "      <th>chrY:7818751-7819626</th>\n",
       "      <td>chrY:7818751-7819626</td>\n",
       "    </tr>\n",
       "  </tbody>\n",
       "</table>\n",
       "<p>9997 rows × 1 columns</p>\n",
       "</div>"
      ],
      "text/plain": [
       "                                             gene_id\n",
       "gene_id.1                                           \n",
       "chr10:100013840-100014756  chr10:100013840-100014756\n",
       "chr10:100255223-100255983  chr10:100255223-100255983\n",
       "chr10:100370527-100371417  chr10:100370527-100371417\n",
       "chr10:100564973-100565808  chr10:100564973-100565808\n",
       "chr10:100650203-100651061  chr10:100650203-100651061\n",
       "...                                              ...\n",
       "chrY:13227302-13228090        chrY:13227302-13228090\n",
       "chrY:13738366-13739243        chrY:13738366-13739243\n",
       "chrY:21180640-21181505        chrY:21180640-21181505\n",
       "chrY:6908816-6909637            chrY:6908816-6909637\n",
       "chrY:7818751-7819626            chrY:7818751-7819626\n",
       "\n",
       "[9997 rows x 1 columns]"
      ]
     },
     "execution_count": 5,
     "metadata": {},
     "output_type": "execute_result"
    }
   ],
   "source": [
    "hv_columns_atac = pd.read_csv(os.path.join(data_dir, \"hv_peaks.csv\"), index_col=1)\n",
    "# Selecting only peaks that start with 'chr' \n",
    "hv_columns_atac = hv_columns_atac[hv_columns_atac.gene_id.str.startswith(\"chr\")]\n",
    "hv_columns_atac"
   ]
  },
  {
   "cell_type": "code",
   "execution_count": 6,
   "metadata": {},
   "outputs": [
    {
     "data": {
      "text/html": [
       "<div>\n",
       "<style scoped>\n",
       "    .dataframe tbody tr th:only-of-type {\n",
       "        vertical-align: middle;\n",
       "    }\n",
       "\n",
       "    .dataframe tbody tr th {\n",
       "        vertical-align: top;\n",
       "    }\n",
       "\n",
       "    .dataframe thead th {\n",
       "        text-align: right;\n",
       "    }\n",
       "</style>\n",
       "<table border=\"1\" class=\"dataframe\">\n",
       "  <thead>\n",
       "    <tr style=\"text-align: right;\">\n",
       "      <th></th>\n",
       "      <th>gene_id</th>\n",
       "    </tr>\n",
       "    <tr>\n",
       "      <th>gene_id.1</th>\n",
       "      <th></th>\n",
       "    </tr>\n",
       "  </thead>\n",
       "  <tbody>\n",
       "    <tr>\n",
       "      <th>ENSG00000242908</th>\n",
       "      <td>ENSG00000242908</td>\n",
       "    </tr>\n",
       "    <tr>\n",
       "      <th>ENSG00000115977</th>\n",
       "      <td>ENSG00000115977</td>\n",
       "    </tr>\n",
       "    <tr>\n",
       "      <th>ENSG00000205002</th>\n",
       "      <td>ENSG00000205002</td>\n",
       "    </tr>\n",
       "    <tr>\n",
       "      <th>ENSG00000183044</th>\n",
       "      <td>ENSG00000183044</td>\n",
       "    </tr>\n",
       "    <tr>\n",
       "      <th>ENSG00000154262</th>\n",
       "      <td>ENSG00000154262</td>\n",
       "    </tr>\n",
       "    <tr>\n",
       "      <th>...</th>\n",
       "      <td>...</td>\n",
       "    </tr>\n",
       "    <tr>\n",
       "      <th>ENSG00000183621</th>\n",
       "      <td>ENSG00000183621</td>\n",
       "    </tr>\n",
       "    <tr>\n",
       "      <th>ENSG00000198597</th>\n",
       "      <td>ENSG00000198597</td>\n",
       "    </tr>\n",
       "    <tr>\n",
       "      <th>ENSG00000172000</th>\n",
       "      <td>ENSG00000172000</td>\n",
       "    </tr>\n",
       "    <tr>\n",
       "      <th>ENSG00000143373</th>\n",
       "      <td>ENSG00000143373</td>\n",
       "    </tr>\n",
       "    <tr>\n",
       "      <th>ENSG00000196605</th>\n",
       "      <td>ENSG00000196605</td>\n",
       "    </tr>\n",
       "  </tbody>\n",
       "</table>\n",
       "<p>2000 rows × 1 columns</p>\n",
       "</div>"
      ],
      "text/plain": [
       "                         gene_id\n",
       "gene_id.1                       \n",
       "ENSG00000242908  ENSG00000242908\n",
       "ENSG00000115977  ENSG00000115977\n",
       "ENSG00000205002  ENSG00000205002\n",
       "ENSG00000183044  ENSG00000183044\n",
       "ENSG00000154262  ENSG00000154262\n",
       "...                          ...\n",
       "ENSG00000183621  ENSG00000183621\n",
       "ENSG00000198597  ENSG00000198597\n",
       "ENSG00000172000  ENSG00000172000\n",
       "ENSG00000143373  ENSG00000143373\n",
       "ENSG00000196605  ENSG00000196605\n",
       "\n",
       "[2000 rows x 1 columns]"
      ]
     },
     "execution_count": 6,
     "metadata": {},
     "output_type": "execute_result"
    }
   ],
   "source": [
    "hv_columns_rna = pd.read_csv(os.path.join(data_dir, \"hv_genes.csv\"), index_col=1)\n",
    "hv_columns_rna"
   ]
  },
  {
   "cell_type": "code",
   "execution_count": 7,
   "metadata": {},
   "outputs": [
    {
     "name": "stderr",
     "output_type": "stream",
     "text": [
      "100%|███████████████████████████████████████████████████████████████████████████████████| 26/26 [03:41<00:00,  8.51s/it]\n",
      "100%|███████████████████████████████████████████████████████████████████████████████████| 26/26 [04:05<00:00,  9.46s/it]\n",
      "100%|███████████████████████████████████████████████████████████████████████████████████| 26/26 [04:04<00:00,  9.41s/it]\n",
      "100%|███████████████████████████████████████████████████████████████████████████████████| 27/27 [04:24<00:00,  9.78s/it]\n"
     ]
    }
   ],
   "source": [
    "last_indexes = [\n",
    "    (DATA_LENGTH//4000)*1000, \n",
    "    (DATA_LENGTH//4000)*2000, \n",
    "    (DATA_LENGTH//4000)*3000, \n",
    "    DATA_LENGTH - 1000\n",
    "]\n",
    "\n",
    "start_index = 0\n",
    "for num in range(len(last_indexes)):\n",
    "    df_atac = pd.DataFrame([])\n",
    "    df_rna = pd.DataFrame([])\n",
    "    for i in tqdm(range(start_index, last_indexes[num], 1000)):\n",
    "        if last_indexes[num] - i >= 1000:\n",
    "            # ATAC\n",
    "            df_multi_train_partial = pd.read_hdf(\n",
    "                os.path.join(data_dir, \"train_multi_inputs.h5\"), start=i, stop=i+1000\n",
    "            )\n",
    "            df_multi_train_partial = df_multi_train_partial[hv_columns_atac.gene_id.values].astype(pd.SparseDtype(float, 0))\n",
    "            df_atac = pd.concat([df_atac, df_multi_train_partial])\n",
    "            # RNA\n",
    "            df_multi_train_partial = pd.read_hdf(\n",
    "                os.path.join(data_dir, \"train_multi_targets.h5\"), start=i, stop=i+1000\n",
    "            )\n",
    "            df_multi_train_partial = df_multi_train_partial[hv_columns_rna.gene_id.values].astype(pd.SparseDtype(float, 0))\n",
    "            df_rna = pd.concat([df_rna, df_multi_train_partial])\n",
    "            \n",
    "        else: ##################\n",
    "            # ATAC\n",
    "            df_multi_train_partial = pd.read_hdf(\n",
    "                os.path.join(data_dir, \"train_multi_inputs.h5\"), start=i, stop=DATA_LENGTH\n",
    "            )\n",
    "            df_multi_train_partial = df_multi_train_partial[hv_columns_atac.gene_id.values].astype(pd.SparseDtype(float, 0))\n",
    "            df_atac = pd.concat([df_atac, df_multi_train_partial])\n",
    "            # RNA\n",
    "            df_multi_train_partial = pd.read_hdf(\n",
    "                os.path.join(data_dir, \"train_multi_targets.h5\"), start=i, stop=DATA_LENGTH\n",
    "            )\n",
    "            df_multi_train_partial = df_multi_train_partial[hv_columns_rna.gene_id.values].astype(pd.SparseDtype(float, 0))\n",
    "            df_rna = pd.concat([df_rna, df_multi_train_partial])  \n",
    "        gc.collect()\n",
    "\n",
    "        \n",
    "    start_index = last_indexes[num]\n",
    "    \n",
    "    adata_atac = sc.AnnData(df_atac.replace(np.nan, 0),\n",
    "        df_atac.index.to_frame(),\n",
    "        df_atac.columns.to_frame())\n",
    "    \n",
    "    adata_rna = sc.AnnData(df_rna.replace(np.nan, 0),\n",
    "        df_rna.index.to_frame(),\n",
    "        df_rna.columns.to_frame())\n",
    "    \n",
    "    mdata = MuData({\"atac\": adata_atac, \"rna\": adata_rna})\n",
    "    \n",
    "    mdata.write(\n",
    "        os.path.join(data_dir, f\"mudata_part_{num+1}.h5mu\")\n",
    "    )"
   ]
  },
  {
   "cell_type": "markdown",
   "metadata": {},
   "source": [
    "## Cheking the .h5mu files we created"
   ]
  },
  {
   "cell_type": "code",
   "execution_count": 8,
   "metadata": {},
   "outputs": [],
   "source": [
    "mdata1 = md.read(\n",
    "    os.path.join(data_dir, f\"mudata_part_1.h5mu\")\n",
    ")\n",
    "mdata2 = md.read(\n",
    "    os.path.join(data_dir, f\"mudata_part_2.h5mu\")\n",
    ")\n",
    "mdata3 = md.read(\n",
    "    os.path.join(data_dir, f\"mudata_part_3.h5mu\")\n",
    ")\n",
    "mdata4 = md.read(\n",
    "    os.path.join(data_dir, f\"mudata_part_4.h5mu\")\n",
    ")"
   ]
  },
  {
   "cell_type": "code",
   "execution_count": 9,
   "metadata": {},
   "outputs": [
    {
     "data": {
      "text/plain": [
       "((26000, 11997), (26000, 11997), (26000, 11997), (27942, 11997))"
      ]
     },
     "execution_count": 9,
     "metadata": {},
     "output_type": "execute_result"
    }
   ],
   "source": [
    "mdata1.shape, mdata2.shape, mdata3.shape, mdata4.shape"
   ]
  },
  {
   "cell_type": "code",
   "execution_count": 10,
   "metadata": {
    "scrolled": false
   },
   "outputs": [
    {
     "data": {
      "text/html": [
       "<div>\n",
       "<style scoped>\n",
       "    .dataframe tbody tr th:only-of-type {\n",
       "        vertical-align: middle;\n",
       "    }\n",
       "\n",
       "    .dataframe tbody tr th {\n",
       "        vertical-align: top;\n",
       "    }\n",
       "\n",
       "    .dataframe thead th {\n",
       "        text-align: right;\n",
       "    }\n",
       "</style>\n",
       "<table border=\"1\" class=\"dataframe\">\n",
       "  <thead>\n",
       "    <tr style=\"text-align: right;\">\n",
       "      <th></th>\n",
       "      <th>gene_id</th>\n",
       "    </tr>\n",
       "    <tr>\n",
       "      <th>gene_id</th>\n",
       "      <th></th>\n",
       "    </tr>\n",
       "  </thead>\n",
       "  <tbody>\n",
       "    <tr>\n",
       "      <th>chr10:100013840-100014756</th>\n",
       "      <td>chr10:100013840-100014756</td>\n",
       "    </tr>\n",
       "    <tr>\n",
       "      <th>chr10:100255223-100255983</th>\n",
       "      <td>chr10:100255223-100255983</td>\n",
       "    </tr>\n",
       "    <tr>\n",
       "      <th>chr10:100370527-100371417</th>\n",
       "      <td>chr10:100370527-100371417</td>\n",
       "    </tr>\n",
       "    <tr>\n",
       "      <th>chr10:100564973-100565808</th>\n",
       "      <td>chr10:100564973-100565808</td>\n",
       "    </tr>\n",
       "    <tr>\n",
       "      <th>chr10:100650203-100651061</th>\n",
       "      <td>chr10:100650203-100651061</td>\n",
       "    </tr>\n",
       "    <tr>\n",
       "      <th>...</th>\n",
       "      <td>...</td>\n",
       "    </tr>\n",
       "    <tr>\n",
       "      <th>ENSG00000183621</th>\n",
       "      <td>ENSG00000183621</td>\n",
       "    </tr>\n",
       "    <tr>\n",
       "      <th>ENSG00000198597</th>\n",
       "      <td>ENSG00000198597</td>\n",
       "    </tr>\n",
       "    <tr>\n",
       "      <th>ENSG00000172000</th>\n",
       "      <td>ENSG00000172000</td>\n",
       "    </tr>\n",
       "    <tr>\n",
       "      <th>ENSG00000143373</th>\n",
       "      <td>ENSG00000143373</td>\n",
       "    </tr>\n",
       "    <tr>\n",
       "      <th>ENSG00000196605</th>\n",
       "      <td>ENSG00000196605</td>\n",
       "    </tr>\n",
       "  </tbody>\n",
       "</table>\n",
       "<p>11997 rows × 1 columns</p>\n",
       "</div>"
      ],
      "text/plain": [
       "                                             gene_id\n",
       "gene_id                                             \n",
       "chr10:100013840-100014756  chr10:100013840-100014756\n",
       "chr10:100255223-100255983  chr10:100255223-100255983\n",
       "chr10:100370527-100371417  chr10:100370527-100371417\n",
       "chr10:100564973-100565808  chr10:100564973-100565808\n",
       "chr10:100650203-100651061  chr10:100650203-100651061\n",
       "...                                              ...\n",
       "ENSG00000183621                      ENSG00000183621\n",
       "ENSG00000198597                      ENSG00000198597\n",
       "ENSG00000172000                      ENSG00000172000\n",
       "ENSG00000143373                      ENSG00000143373\n",
       "ENSG00000196605                      ENSG00000196605\n",
       "\n",
       "[11997 rows x 1 columns]"
      ]
     },
     "execution_count": 10,
     "metadata": {},
     "output_type": "execute_result"
    }
   ],
   "source": [
    "mdata1.var"
   ]
  },
  {
   "cell_type": "markdown",
   "metadata": {},
   "source": [
    "## Adding Coordinates"
   ]
  },
  {
   "cell_type": "code",
   "execution_count": 11,
   "metadata": {},
   "outputs": [],
   "source": [
    "def get_gene_coordinates(adata, av_genes):\n",
    "    adata_ = adata[:, list(av_genes)]\n",
    "    adata_.var = pd.concat([adata_.var, gene_coordinates.loc[av_genes, (\"chr\",\"start\", \"end\")]], axis=1)\n",
    "    return adata_"
   ]
  },
  {
   "cell_type": "code",
   "execution_count": 12,
   "metadata": {
    "id": "bdfLDcPtp0Rz"
   },
   "outputs": [],
   "source": [
    "def extract_atac_coordinates_(serie):\n",
    "    df = serie.str.split(pat='[-:]', expand=True)\n",
    "    return df.rename(columns={0:\"chr\", 1:\"start\", 2:\"end\"})\n",
    "\n",
    "def get_atac_coordinates(adata):\n",
    "    adata.var = pd.concat(\n",
    "        [adata.var, extract_atac_coordinates_(adata.var[\"gene_id\"])],\n",
    "        axis=1\n",
    "    )\n",
    "    return adata"
   ]
  },
  {
   "cell_type": "markdown",
   "metadata": {},
   "source": [
    "### RNA"
   ]
  },
  {
   "cell_type": "code",
   "execution_count": 13,
   "metadata": {
    "scrolled": false
   },
   "outputs": [
    {
     "data": {
      "text/html": [
       "<div>\n",
       "<style scoped>\n",
       "    .dataframe tbody tr th:only-of-type {\n",
       "        vertical-align: middle;\n",
       "    }\n",
       "\n",
       "    .dataframe tbody tr th {\n",
       "        vertical-align: top;\n",
       "    }\n",
       "\n",
       "    .dataframe thead th {\n",
       "        text-align: right;\n",
       "    }\n",
       "</style>\n",
       "<table border=\"1\" class=\"dataframe\">\n",
       "  <thead>\n",
       "    <tr style=\"text-align: right;\">\n",
       "      <th></th>\n",
       "      <th>feature_types</th>\n",
       "      <th>gene_id</th>\n",
       "      <th>index</th>\n",
       "      <th>Ensembl GeneIDs</th>\n",
       "      <th>Gene Type</th>\n",
       "      <th>Synonyms</th>\n",
       "      <th>Symbol</th>\n",
       "      <th>Description</th>\n",
       "      <th>seqname</th>\n",
       "      <th>start</th>\n",
       "      <th>end</th>\n",
       "      <th>chr</th>\n",
       "    </tr>\n",
       "  </thead>\n",
       "  <tbody>\n",
       "    <tr>\n",
       "      <th>ENSG00000188976</th>\n",
       "      <td>GEX</td>\n",
       "      <td>ENSG00000188976</td>\n",
       "      <td>NOC2L</td>\n",
       "      <td>ENSG00000188976</td>\n",
       "      <td>PROTEIN_CODING</td>\n",
       "      <td>NIR,NET7,NET15,PPP1R112</td>\n",
       "      <td>NOC2L</td>\n",
       "      <td>NOC2 like nucleolar associated transcriptional...</td>\n",
       "      <td>chr1</td>\n",
       "      <td>944697</td>\n",
       "      <td>959240</td>\n",
       "      <td>chr1</td>\n",
       "    </tr>\n",
       "    <tr>\n",
       "      <th>ENSG00000187961</th>\n",
       "      <td>GEX</td>\n",
       "      <td>ENSG00000187961</td>\n",
       "      <td>KLHL17</td>\n",
       "      <td>ENSG00000187961</td>\n",
       "      <td>PROTEIN_CODING</td>\n",
       "      <td>AF</td>\n",
       "      <td>KLHL17</td>\n",
       "      <td>kelch like family member 17</td>\n",
       "      <td>chr1</td>\n",
       "      <td>960694</td>\n",
       "      <td>965188</td>\n",
       "      <td>chr1</td>\n",
       "    </tr>\n",
       "  </tbody>\n",
       "</table>\n",
       "</div>"
      ],
      "text/plain": [
       "                feature_types          gene_id   index  Ensembl GeneIDs  \\\n",
       "ENSG00000188976           GEX  ENSG00000188976   NOC2L  ENSG00000188976   \n",
       "ENSG00000187961           GEX  ENSG00000187961  KLHL17  ENSG00000187961   \n",
       "\n",
       "                      Gene Type                 Synonyms  Symbol  \\\n",
       "ENSG00000188976  PROTEIN_CODING  NIR,NET7,NET15,PPP1R112   NOC2L   \n",
       "ENSG00000187961  PROTEIN_CODING                       AF  KLHL17   \n",
       "\n",
       "                                                       Description seqname  \\\n",
       "ENSG00000188976  NOC2 like nucleolar associated transcriptional...    chr1   \n",
       "ENSG00000187961                        kelch like family member 17    chr1   \n",
       "\n",
       "                  start     end   chr  \n",
       "ENSG00000188976  944697  959240  chr1  \n",
       "ENSG00000187961  960694  965188  chr1  "
      ]
     },
     "execution_count": 13,
     "metadata": {},
     "output_type": "execute_result"
    }
   ],
   "source": [
    "# This DataFrame is exported from deepmu package\n",
    "gene_coordinates = pd.read_csv(\n",
    "    os.path.join(data_dir, \"gene_coordinates.csv\"),\n",
    "    index_col=0\n",
    ")\n",
    "gene_coordinates.head(2)"
   ]
  },
  {
   "cell_type": "markdown",
   "metadata": {},
   "source": [
    "**Important Note**\n",
    "\n",
    "I didn't know where to find the coordinates of all genes, so I only use the ones whose coordinates were available in `deepmu` package."
   ]
  },
  {
   "cell_type": "code",
   "execution_count": 14,
   "metadata": {},
   "outputs": [],
   "source": [
    "available_genes = set(gene_coordinates.index).intersection(\n",
    "    set(mdata1[\"rna\"].var.gene_id.values)\n",
    ")"
   ]
  },
  {
   "cell_type": "markdown",
   "metadata": {},
   "source": [
    "## Creating the Final AnnData Objects"
   ]
  },
  {
   "cell_type": "code",
   "execution_count": 15,
   "metadata": {},
   "outputs": [],
   "source": [
    "mdatas = [mdata1, mdata2, mdata3, mdata4]"
   ]
  },
  {
   "cell_type": "code",
   "execution_count": 16,
   "metadata": {},
   "outputs": [],
   "source": [
    "rna_anndata = ad.concat([\n",
    "    mdata['rna'] for mdata in mdatas\n",
    "], merge=\"same\")\n",
    "\n",
    "atac_anndata = ad.concat([\n",
    "    mdata['atac'] for mdata in mdatas\n",
    "], merge=\"same\")"
   ]
  },
  {
   "cell_type": "code",
   "execution_count": 17,
   "metadata": {},
   "outputs": [],
   "source": [
    "rna_anndata = get_gene_coordinates(rna_anndata, available_genes)\n",
    "atac_anndata = get_atac_coordinates(atac_anndata)"
   ]
  },
  {
   "cell_type": "code",
   "execution_count": 18,
   "metadata": {},
   "outputs": [],
   "source": [
    "atac_anndata.write_h5ad(\n",
    "    os.path.join(data_dir, \"atac_anndata.h5ad\")\n",
    ")\n",
    "rna_anndata.write_h5ad(\n",
    "    os.path.join(data_dir, \"rna_anndata.h5ad\")\n",
    ")"
   ]
  },
  {
   "cell_type": "markdown",
   "metadata": {},
   "source": [
    "# Extracting Embeddings of Sequences Using Enformer"
   ]
  },
  {
   "cell_type": "code",
   "execution_count": 1,
   "metadata": {},
   "outputs": [
    {
     "data": {
      "text/plain": [
       "True"
      ]
     },
     "execution_count": 1,
     "metadata": {},
     "output_type": "execute_result"
    }
   ],
   "source": [
    "import torch\n",
    "torch.cuda.is_available()"
   ]
  },
  {
   "cell_type": "code",
   "execution_count": 2,
   "metadata": {},
   "outputs": [
    {
     "name": "stderr",
     "output_type": "stream",
     "text": [
      "/home/amiralism/miniconda3/envs/bio/lib/python3.11/site-packages/umap/distances.py:1063: NumbaDeprecationWarning: The 'nopython' keyword argument was not supplied to the 'numba.jit' decorator. The implicit default value for this argument is currently False, but it will be changed to True in Numba 0.59.0. See https://numba.readthedocs.io/en/stable/reference/deprecation.html#deprecation-of-object-mode-fall-back-behaviour-when-using-jit for details.\n",
      "  @numba.jit()\n",
      "/home/amiralism/miniconda3/envs/bio/lib/python3.11/site-packages/umap/distances.py:1071: NumbaDeprecationWarning: The 'nopython' keyword argument was not supplied to the 'numba.jit' decorator. The implicit default value for this argument is currently False, but it will be changed to True in Numba 0.59.0. See https://numba.readthedocs.io/en/stable/reference/deprecation.html#deprecation-of-object-mode-fall-back-behaviour-when-using-jit for details.\n",
      "  @numba.jit()\n",
      "/home/amiralism/miniconda3/envs/bio/lib/python3.11/site-packages/umap/distances.py:1086: NumbaDeprecationWarning: The 'nopython' keyword argument was not supplied to the 'numba.jit' decorator. The implicit default value for this argument is currently False, but it will be changed to True in Numba 0.59.0. See https://numba.readthedocs.io/en/stable/reference/deprecation.html#deprecation-of-object-mode-fall-back-behaviour-when-using-jit for details.\n",
      "  @numba.jit()\n",
      "/home/amiralism/miniconda3/envs/bio/lib/python3.11/site-packages/umap/umap_.py:660: NumbaDeprecationWarning: The 'nopython' keyword argument was not supplied to the 'numba.jit' decorator. The implicit default value for this argument is currently False, but it will be changed to True in Numba 0.59.0. See https://numba.readthedocs.io/en/stable/reference/deprecation.html#deprecation-of-object-mode-fall-back-behaviour-when-using-jit for details.\n",
      "  @numba.jit()\n",
      "2023-09-08 13:46:15.030393: I tensorflow/core/platform/cpu_feature_guard.cc:182] This TensorFlow binary is optimized to use available CPU instructions in performance-critical operations.\n",
      "To enable the following instructions: AVX2 FMA, in other operations, rebuild TensorFlow with the appropriate compiler flags.\n",
      "2023-09-08 13:46:16.189831: W tensorflow/compiler/tf2tensorrt/utils/py_utils.cc:38] TF-TRT Warning: Could not find TensorRT\n"
     ]
    }
   ],
   "source": [
    "###############################################\n",
    "###############################################\n",
    "###############################################\n",
    "###############################################\n",
    "\n",
    "import os\n",
    "import pandas as pd\n",
    "import matplotlib.pyplot as plt\n",
    "import seaborn as sns\n",
    "import numpy as np\n",
    "import seaborn as sns\n",
    "import re\n",
    "import gc\n",
    "import warnings\n",
    "import scanpy as sc\n",
    "import muon\n",
    "import deepmu as dm\n",
    "from tqdm import tqdm\n",
    "import mudata as md\n",
    "from mudata import MuData\n",
    "import anndata as ad\n",
    "from scipy.sparse import coo_matrix\n",
    "\n",
    "\n",
    "warnings.filterwarnings('ignore')\n",
    "os.environ['CUDA_VISIBLE_DEVICES'] = '1'\n",
    "os.environ['PROTOCOL_BUFFERS_PYTHON_IMPLEMENTATION']='python'\n",
    "\n",
    "\n",
    "data_dir = \"./data_kaggle\"\n",
    "DATA_LENGTH = 105942"
   ]
  },
  {
   "cell_type": "markdown",
   "metadata": {},
   "source": [
    "## Loading the Dataset and the Enformer Model"
   ]
  },
  {
   "cell_type": "code",
   "execution_count": 3,
   "metadata": {
    "scrolled": true
   },
   "outputs": [
    {
     "data": {
      "text/html": [
       "<pre>MuData object with n_obs × n_vars = 105942 × 10972\n",
       "  var:\t&#x27;gene_id&#x27;, &#x27;chr&#x27;, &#x27;start&#x27;, &#x27;end&#x27;\n",
       "  2 modalities\n",
       "    atac:\t105942 x 9997\n",
       "      obs:\t&#x27;cell_id&#x27;\n",
       "      var:\t&#x27;gene_id&#x27;, &#x27;chr&#x27;, &#x27;start&#x27;, &#x27;end&#x27;\n",
       "    rna:\t105942 x 975\n",
       "      obs:\t&#x27;cell_id&#x27;\n",
       "      var:\t&#x27;gene_id&#x27;, &#x27;chr&#x27;, &#x27;start&#x27;, &#x27;end&#x27;</pre>"
      ],
      "text/plain": [
       "MuData object with n_obs × n_vars = 105942 × 10972\n",
       "  var:\t'gene_id', 'chr', 'start', 'end'\n",
       "  2 modalities\n",
       "    atac:\t105942 x 9997\n",
       "      obs:\t'cell_id'\n",
       "      var:\t'gene_id', 'chr', 'start', 'end'\n",
       "    rna:\t105942 x 975\n",
       "      obs:\t'cell_id'\n",
       "      var:\t'gene_id', 'chr', 'start', 'end'"
      ]
     },
     "execution_count": 3,
     "metadata": {},
     "output_type": "execute_result"
    }
   ],
   "source": [
    "atac_anndata = ad.read_h5ad(\n",
    "    os.path.join(data_dir, \"atac_anndata.h5ad\")\n",
    ")\n",
    "\n",
    "rna_anndata = ad.read_h5ad(\n",
    "    os.path.join(data_dir, \"rna_anndata.h5ad\")\n",
    ")\n",
    "mdata = MuData({\"atac\": atac_anndata, \"rna\": rna_anndata})\n",
    "mdata"
   ]
  },
  {
   "cell_type": "code",
   "execution_count": 4,
   "metadata": {},
   "outputs": [],
   "source": [
    "mdata[\"atac\"].var = mdata[\"atac\"].var.astype({\n",
    "    \"start\": int,\n",
    "    \"end\": int,\n",
    "})\n",
    "\n",
    "mdata[\"rna\"].var = mdata[\"rna\"].var.astype({\n",
    "    \"start\": int,\n",
    "    \"end\": int,\n",
    "})"
   ]
  },
  {
   "cell_type": "code",
   "execution_count": 5,
   "metadata": {},
   "outputs": [
    {
     "name": "stdout",
     "output_type": "stream",
     "text": [
      "File already exists...\n",
      "\tDownloading skipped.\n"
     ]
    },
    {
     "name": "stderr",
     "output_type": "stream",
     "text": [
      "455it [05:27,  1.39it/s] \n"
     ]
    }
   ],
   "source": [
    "enformer = dm.models.seq.EnformerWrapper()"
   ]
  },
  {
   "cell_type": "markdown",
   "metadata": {},
   "source": [
    "## Extracting Embeddings"
   ]
  },
  {
   "cell_type": "markdown",
   "metadata": {},
   "source": [
    "### ATAC"
   ]
  },
  {
   "cell_type": "code",
   "execution_count": null,
   "metadata": {},
   "outputs": [
    {
     "name": "stderr",
     "output_type": "stream",
     "text": [
      " 46%|███████████████████████████████████▏                                         | 4574/9997 [52:08<1:04:37,  1.40it/s]"
     ]
    }
   ],
   "source": [
    "enformer.extract_embeddings_from_mudata(mdata, \n",
    "                                        modality='atac', \n",
    "                                        window_size='max', \n",
    "                                        agg_method='sum',\n",
    "                                        )"
   ]
  },
  {
   "cell_type": "code",
   "execution_count": 17,
   "metadata": {},
   "outputs": [
    {
     "data": {
      "text/plain": [
       "array([[ 1.16696060e+02,  5.33300066e+00,  4.36163879e+02, ...,\n",
       "        -2.61828482e-01,  7.97865417e+02,  2.97136765e+01],\n",
       "       [-7.59147720e+01, -7.48912573e-01,  3.03640175e+01, ...,\n",
       "        -1.08701713e-01, -1.09746269e+02,  3.05580330e+01],\n",
       "       [ 7.45069580e+01, -1.22915030e+00,  2.16997314e+02, ...,\n",
       "        -5.73890448e-01,  3.08295441e+02,  7.72889481e+01],\n",
       "       ...,\n",
       "       [-8.90504532e+01, -2.85261452e-01, -9.70807343e+01, ...,\n",
       "        -3.60570192e-01, -1.06433640e+02, -6.74439774e+01],\n",
       "       [ 4.73809910e+00, -1.73017025e+00, -1.21149712e+02, ...,\n",
       "        -2.49075085e-01,  4.16925583e+01, -1.44388924e+01],\n",
       "       [-1.14436325e+02, -9.25791413e-02, -1.24260132e+02, ...,\n",
       "        -1.94091618e-01, -1.00297905e+02, -3.91020088e+01]], dtype=float32)"
      ]
     },
     "execution_count": 17,
     "metadata": {},
     "output_type": "execute_result"
    }
   ],
   "source": [
    "mdata[\"atac\"].varm[\"enformer_emb\"]"
   ]
  },
  {
   "cell_type": "code",
   "execution_count": 19,
   "metadata": {},
   "outputs": [],
   "source": [
    "# # Saving the embeddings\n",
    "# with open(os.path.join(data_dir, 'atac_embd.npy'), 'wb') as f:\n",
    "#     np.save(f, mdata[\"atac\"].varm[\"enformer_emb\"])"
   ]
  },
  {
   "cell_type": "markdown",
   "metadata": {},
   "source": [
    "### RNA"
   ]
  },
  {
   "cell_type": "code",
   "execution_count": 21,
   "metadata": {},
   "outputs": [
    {
     "name": "stderr",
     "output_type": "stream",
     "text": [
      "100%|█████████████████████████████████████████████████████████████████████████████████| 975/975 [10:41<00:00,  1.52it/s]\n"
     ]
    }
   ],
   "source": [
    "enformer.extract_embeddings_from_mudata(mdata, \n",
    "                                        modality='rna', \n",
    "                                        window_size='max', \n",
    "                                        agg_method='sum',\n",
    "                                        )"
   ]
  },
  {
   "cell_type": "code",
   "execution_count": 22,
   "metadata": {},
   "outputs": [
    {
     "data": {
      "text/plain": [
       "array([[-9.14816818e+01, -3.92256141e-01, -1.25419861e+02, ...,\n",
       "        -4.72265065e-01,  1.64335495e+02,  2.98313313e+01],\n",
       "       [-6.12116814e+01, -8.94101858e-01, -1.26663773e+02, ...,\n",
       "        -1.38199165e-01, -8.17191467e+01,  9.18119812e+00],\n",
       "       [ 2.15720398e+02,  2.44957492e-01, -1.13366837e+02, ...,\n",
       "        -7.73207992e-02, -1.01635025e+02,  7.18337936e+01],\n",
       "       ...,\n",
       "       [ 4.36805969e+02,  1.03119507e+01, -9.44195023e+01, ...,\n",
       "        -7.77994692e-02, -6.95453491e+01,  3.57042618e+01],\n",
       "       [-9.85135651e+01, -3.14075559e-01, -1.30791489e+02, ...,\n",
       "        -1.08284377e-01, -1.04351120e+02, -1.49595518e+01],\n",
       "       [-1.14406219e+02,  5.93711257e-01, -3.98234978e+01, ...,\n",
       "        -1.17217112e+00, -1.02825958e+02, -6.07167587e+01]], dtype=float32)"
      ]
     },
     "execution_count": 22,
     "metadata": {},
     "output_type": "execute_result"
    }
   ],
   "source": [
    "mdata[\"rna\"].varm[\"enformer_emb\"]"
   ]
  },
  {
   "cell_type": "code",
   "execution_count": 23,
   "metadata": {},
   "outputs": [],
   "source": [
    "# # Saving the embeddings\n",
    "# with open(os.path.join(data_dir, 'rna_embd.npy'), 'wb') as f:\n",
    "#     np.save(f, mdata[\"rna\"].varm[\"enformer_emb\"])"
   ]
  },
  {
   "cell_type": "markdown",
   "metadata": {},
   "source": [
    "# Training The Model"
   ]
  },
  {
   "cell_type": "code",
   "execution_count": 1,
   "metadata": {},
   "outputs": [
    {
     "data": {
      "text/plain": [
       "True"
      ]
     },
     "execution_count": 1,
     "metadata": {},
     "output_type": "execute_result"
    }
   ],
   "source": [
    "import torch\n",
    "torch.cuda.is_available()"
   ]
  },
  {
   "cell_type": "code",
   "execution_count": 2,
   "metadata": {},
   "outputs": [],
   "source": [
    "from torch import nn\n",
    "from torch import Tensor\n",
    "from torch.nn import Module\n",
    "from torch.nn import Linear\n",
    "from torch.nn import ReLU, GELU, Sigmoid \n",
    "from torch.nn import BCEWithLogitsLoss\n",
    "from torch.optim import Adam\n",
    "from torch.utils.data import Dataset\n",
    "from torch.utils.data import DataLoader\n",
    "\n",
    "if torch.cuda.is_available():\n",
    "    device = \"cuda\"\n",
    "else:\n",
    "    device = \"cpu\""
   ]
  },
  {
   "cell_type": "code",
   "execution_count": 3,
   "metadata": {
    "scrolled": false
   },
   "outputs": [
    {
     "name": "stderr",
     "output_type": "stream",
     "text": [
      "/home/amiralism/miniconda3/envs/bio/lib/python3.11/site-packages/umap/distances.py:1063: NumbaDeprecationWarning: The 'nopython' keyword argument was not supplied to the 'numba.jit' decorator. The implicit default value for this argument is currently False, but it will be changed to True in Numba 0.59.0. See https://numba.readthedocs.io/en/stable/reference/deprecation.html#deprecation-of-object-mode-fall-back-behaviour-when-using-jit for details.\n",
      "  @numba.jit()\n",
      "/home/amiralism/miniconda3/envs/bio/lib/python3.11/site-packages/umap/distances.py:1071: NumbaDeprecationWarning: The 'nopython' keyword argument was not supplied to the 'numba.jit' decorator. The implicit default value for this argument is currently False, but it will be changed to True in Numba 0.59.0. See https://numba.readthedocs.io/en/stable/reference/deprecation.html#deprecation-of-object-mode-fall-back-behaviour-when-using-jit for details.\n",
      "  @numba.jit()\n",
      "/home/amiralism/miniconda3/envs/bio/lib/python3.11/site-packages/umap/distances.py:1086: NumbaDeprecationWarning: The 'nopython' keyword argument was not supplied to the 'numba.jit' decorator. The implicit default value for this argument is currently False, but it will be changed to True in Numba 0.59.0. See https://numba.readthedocs.io/en/stable/reference/deprecation.html#deprecation-of-object-mode-fall-back-behaviour-when-using-jit for details.\n",
      "  @numba.jit()\n",
      "/home/amiralism/miniconda3/envs/bio/lib/python3.11/site-packages/umap/umap_.py:660: NumbaDeprecationWarning: The 'nopython' keyword argument was not supplied to the 'numba.jit' decorator. The implicit default value for this argument is currently False, but it will be changed to True in Numba 0.59.0. See https://numba.readthedocs.io/en/stable/reference/deprecation.html#deprecation-of-object-mode-fall-back-behaviour-when-using-jit for details.\n",
      "  @numba.jit()\n",
      "2023-09-09 21:21:49.736229: I tensorflow/core/platform/cpu_feature_guard.cc:182] This TensorFlow binary is optimized to use available CPU instructions in performance-critical operations.\n",
      "To enable the following instructions: AVX2 FMA, in other operations, rebuild TensorFlow with the appropriate compiler flags.\n",
      "2023-09-09 21:21:50.587396: W tensorflow/compiler/tf2tensorrt/utils/py_utils.cc:38] TF-TRT Warning: Could not find TensorRT\n"
     ]
    }
   ],
   "source": [
    "###############################################\n",
    "###############################################\n",
    "###############################################\n",
    "###############################################\n",
    "\n",
    "import os\n",
    "import pandas as pd\n",
    "import matplotlib.pyplot as plt\n",
    "import seaborn as sns\n",
    "import numpy as np\n",
    "import seaborn as sns\n",
    "import re\n",
    "import gc\n",
    "import warnings\n",
    "import scanpy as sc\n",
    "import muon\n",
    "import deepmu as dm\n",
    "from tqdm import tqdm\n",
    "import mudata as md\n",
    "from mudata import MuData\n",
    "import anndata as ad\n",
    "from scipy.sparse import coo_matrix\n",
    "\n",
    "\n",
    "warnings.filterwarnings('ignore')\n",
    "os.environ['CUDA_VISIBLE_DEVICES'] = '1'\n",
    "os.environ['PROTOCOL_BUFFERS_PYTHON_IMPLEMENTATION']='python'\n",
    "\n",
    "\n",
    "data_dir = \"./data_kaggle\"\n",
    "DATA_LENGTH = 105942"
   ]
  },
  {
   "cell_type": "markdown",
   "metadata": {},
   "source": [
    "## Loading the Dataset "
   ]
  },
  {
   "cell_type": "code",
   "execution_count": 4,
   "metadata": {
    "scrolled": true
   },
   "outputs": [
    {
     "data": {
      "text/html": [
       "<pre>MuData object with n_obs × n_vars = 105942 × 10972\n",
       "  var:\t&#x27;gene_id&#x27;, &#x27;chr&#x27;, &#x27;start&#x27;, &#x27;end&#x27;\n",
       "  2 modalities\n",
       "    atac:\t105942 x 9997\n",
       "      obs:\t&#x27;cell_id&#x27;\n",
       "      var:\t&#x27;gene_id&#x27;, &#x27;chr&#x27;, &#x27;start&#x27;, &#x27;end&#x27;\n",
       "    rna:\t105942 x 975\n",
       "      obs:\t&#x27;cell_id&#x27;\n",
       "      var:\t&#x27;gene_id&#x27;, &#x27;chr&#x27;, &#x27;start&#x27;, &#x27;end&#x27;</pre>"
      ],
      "text/plain": [
       "MuData object with n_obs × n_vars = 105942 × 10972\n",
       "  var:\t'gene_id', 'chr', 'start', 'end'\n",
       "  2 modalities\n",
       "    atac:\t105942 x 9997\n",
       "      obs:\t'cell_id'\n",
       "      var:\t'gene_id', 'chr', 'start', 'end'\n",
       "    rna:\t105942 x 975\n",
       "      obs:\t'cell_id'\n",
       "      var:\t'gene_id', 'chr', 'start', 'end'"
      ]
     },
     "execution_count": 4,
     "metadata": {},
     "output_type": "execute_result"
    }
   ],
   "source": [
    "atac_anndata = ad.read_h5ad(\n",
    "    os.path.join(data_dir, \"atac_anndata.h5ad\")\n",
    ")\n",
    "\n",
    "rna_anndata = ad.read_h5ad(\n",
    "    os.path.join(data_dir, \"rna_anndata.h5ad\")\n",
    ")\n",
    "mdata = MuData({\"atac\": atac_anndata, \"rna\": rna_anndata})\n",
    "\n",
    "mdata[\"atac\"].var = mdata[\"atac\"].var.astype({\n",
    "    \"start\": int,\n",
    "    \"end\": int,\n",
    "})\n",
    "\n",
    "mdata[\"rna\"].var = mdata[\"rna\"].var.astype({\n",
    "    \"start\": int,\n",
    "    \"end\": int,\n",
    "})\n",
    "\n",
    "mdata"
   ]
  },
  {
   "cell_type": "markdown",
   "metadata": {},
   "source": [
    "## Loading the Extracted Embeddings"
   ]
  },
  {
   "cell_type": "code",
   "execution_count": 5,
   "metadata": {},
   "outputs": [],
   "source": [
    "with open(os.path.join(data_dir, 'atac_embd.npy'), 'rb') as f:\n",
    "    atac_embd = np.load(f)\n",
    "with open(os.path.join(data_dir, 'rna_embd.npy'), 'rb') as f:\n",
    "    rna_embd = np.load(f)"
   ]
  },
  {
   "cell_type": "code",
   "execution_count": 6,
   "metadata": {
    "scrolled": true
   },
   "outputs": [
    {
     "data": {
      "text/plain": [
       "((9997, 3072), (975, 3072))"
      ]
     },
     "execution_count": 6,
     "metadata": {},
     "output_type": "execute_result"
    }
   ],
   "source": [
    "atac_embd.shape, rna_embd.shape"
   ]
  },
  {
   "cell_type": "code",
   "execution_count": 7,
   "metadata": {},
   "outputs": [
    {
     "data": {
      "text/plain": [
       "(3072, 9997, 975)"
      ]
     },
     "execution_count": 7,
     "metadata": {},
     "output_type": "execute_result"
    }
   ],
   "source": [
    "ENFORMER_EMBEDDING_SIZE = atac_embd.shape[1]\n",
    "ATAC_SIZE = atac_embd.shape[0]\n",
    "RNA_SIZE = rna_embd.shape[0]\n",
    "ENFORMER_EMBEDDING_SIZE, ATAC_SIZE, RNA_SIZE"
   ]
  },
  {
   "cell_type": "markdown",
   "metadata": {},
   "source": [
    "## Preprocessing"
   ]
  },
  {
   "cell_type": "markdown",
   "metadata": {},
   "source": [
    "### RNA"
   ]
  },
  {
   "cell_type": "markdown",
   "metadata": {},
   "source": [
    "Checking if the RNA-seq Data is 0-1 normalized"
   ]
  },
  {
   "cell_type": "code",
   "execution_count": 8,
   "metadata": {},
   "outputs": [
    {
     "data": {
      "text/plain": [
       "(12.134982109069824, 0.0, 1.3299917939861507)"
      ]
     },
     "execution_count": 8,
     "metadata": {},
     "output_type": "execute_result"
    }
   ],
   "source": [
    "(mdata[\"rna\"].X).max(), (mdata[\"rna\"].X).min(), (mdata[\"rna\"].X).mean()"
   ]
  },
  {
   "cell_type": "code",
   "execution_count": 9,
   "metadata": {},
   "outputs": [
    {
     "data": {
      "text/plain": [
       "matrix([[1075.20572233],\n",
       "        [ 641.77443409],\n",
       "        [1090.19545174],\n",
       "        ...,\n",
       "        [1680.57458687],\n",
       "        [ 945.07147026],\n",
       "        [1273.00603914]])"
      ]
     },
     "execution_count": 9,
     "metadata": {},
     "output_type": "execute_result"
    }
   ],
   "source": [
    "(mdata[\"rna\"].X).sum(axis=1)"
   ]
  },
  {
   "cell_type": "markdown",
   "metadata": {},
   "source": [
    "It's not normalized, so we normalize it."
   ]
  },
  {
   "cell_type": "code",
   "execution_count": 10,
   "metadata": {},
   "outputs": [
    {
     "data": {
      "text/plain": [
       "<105942x975 sparse matrix of type '<class 'numpy.float64'>'\n",
       "\twith 26171996 stored elements in Compressed Sparse Row format>"
      ]
     },
     "execution_count": 10,
     "metadata": {},
     "output_type": "execute_result"
    }
   ],
   "source": [
    "mdata[\"rna\"].layers[\"normalized\"] = mdata[\"rna\"].X / (mdata[\"rna\"].X).max() # should have been sc.pp.normalize_total(mdata[\"rna\"], target_sum=30, inplace=False)['X']\n",
    "mdata[\"rna\"].layers[\"normalized\"]"
   ]
  },
  {
   "cell_type": "markdown",
   "metadata": {},
   "source": [
    "The reason why I didn't use `sc.pp.normalize_total` was that it would shrink numbers to very small numbers (on average 0.03) and it would lead to the problem of vanishing gradient."
   ]
  },
  {
   "cell_type": "code",
   "execution_count": 11,
   "metadata": {},
   "outputs": [
    {
     "data": {
      "text/plain": [
       "(1.0, 0.0, 0.10959981498383091)"
      ]
     },
     "execution_count": 11,
     "metadata": {},
     "output_type": "execute_result"
    }
   ],
   "source": [
    "mdata[\"rna\"].layers[\"normalized\"].max(), mdata[\"rna\"].layers[\"normalized\"].min(), mdata[\"rna\"].layers[\"normalized\"].mean()"
   ]
  },
  {
   "cell_type": "markdown",
   "metadata": {},
   "source": [
    "### ATAC"
   ]
  },
  {
   "cell_type": "markdown",
   "metadata": {},
   "source": [
    "Checking if the ATAC-seq Data is normalized"
   ]
  },
  {
   "cell_type": "code",
   "execution_count": 12,
   "metadata": {},
   "outputs": [
    {
     "data": {
      "text/plain": [
       "(17.857282638549805, 0.0, 0.034681766695024416)"
      ]
     },
     "execution_count": 12,
     "metadata": {},
     "output_type": "execute_result"
    }
   ],
   "source": [
    "(mdata[\"atac\"].X).max(), (mdata[\"atac\"].X).min(), (mdata[\"atac\"].X).mean()"
   ]
  },
  {
   "cell_type": "code",
   "execution_count": 13,
   "metadata": {
    "scrolled": true
   },
   "outputs": [
    {
     "data": {
      "text/plain": [
       "matrix([[477.37722731],\n",
       "        [288.90541077],\n",
       "        [357.80580312],\n",
       "        ...,\n",
       "        [381.34842807],\n",
       "        [415.95030707],\n",
       "        [256.66030061]])"
      ]
     },
     "execution_count": 13,
     "metadata": {},
     "output_type": "execute_result"
    }
   ],
   "source": [
    "(mdata[\"atac\"].X).sum(axis=1)"
   ]
  },
  {
   "cell_type": "markdown",
   "metadata": {},
   "source": [
    "It's not normalized, so we normalize it."
   ]
  },
  {
   "cell_type": "code",
   "execution_count": 14,
   "metadata": {},
   "outputs": [
    {
     "data": {
      "text/plain": [
       "<105942x9997 sparse matrix of type '<class 'numpy.float64'>'\n",
       "\twith 15961781 stored elements in Compressed Sparse Row format>"
      ]
     },
     "execution_count": 14,
     "metadata": {},
     "output_type": "execute_result"
    }
   ],
   "source": [
    "mdata[\"atac\"].layers[\"normalized\"] = mdata[\"atac\"].X / (mdata[\"atac\"].X).max() #sc.pp.normalize_total(mdata[\"atac\"], target_sum=2.9, inplace=False)['X']\n",
    "mdata[\"atac\"].layers[\"normalized\"]"
   ]
  },
  {
   "cell_type": "markdown",
   "metadata": {},
   "source": [
    "The reason why I didn't use `sc.pp.normalize_total` was that it would shrink numbers to very small numbers (on average 0.0002) and it would lead to the problem of vanishing gradient."
   ]
  },
  {
   "cell_type": "code",
   "execution_count": 15,
   "metadata": {},
   "outputs": [
    {
     "data": {
      "text/plain": [
       "(1.0, 0.0, 0.001942163732132143)"
      ]
     },
     "execution_count": 15,
     "metadata": {},
     "output_type": "execute_result"
    }
   ],
   "source": [
    "mdata[\"atac\"].layers[\"normalized\"].max(), mdata[\"atac\"].layers[\"normalized\"].min(), mdata[\"atac\"].layers[\"normalized\"].mean()"
   ]
  },
  {
   "cell_type": "markdown",
   "metadata": {},
   "source": [
    "## Defining the Model"
   ]
  },
  {
   "cell_type": "markdown",
   "metadata": {},
   "source": [
    "We use a MLP model in order to predict chromatin accessibility and gene expression."
   ]
  },
  {
   "cell_type": "code",
   "execution_count": 16,
   "metadata": {},
   "outputs": [],
   "source": [
    "class Emb2Cell(nn.Module):\n",
    "    def __init__(self, embedding_size, num_cells, hidden_layers=None, device=device):\n",
    "        super().__init__()\n",
    "        if hidden_layers==None:\n",
    "            hidden_layers = [512, 64, 16]\n",
    "        \n",
    "        self.layers = [Linear(num_cells + embedding_size, hidden_layers[0], device=device)] + [\n",
    "            Linear(hidden_layers[i], hidden_layers[i + 1], device=device) for i in range(len(hidden_layers)-1)\n",
    "        ] + [Linear(hidden_layers[-1], 2, device=device)]\n",
    "        \n",
    "        self.activations = [GELU() for i in range(len(hidden_layers))]\n",
    "        self.batch_norms = [nn.BatchNorm1d(hidden_layers[i], device=device) for i in range(len(hidden_layers))]\n",
    "        self.dropouts = [nn.Dropout(0.3, inplace=True) for i in range(len(hidden_layers))]\n",
    "        \n",
    "        \n",
    "        for i in range(len(self.layers)):\n",
    "            setattr(self, f'FCLayer_{i+1}', self.layers[i])\n",
    "            \n",
    "        for i in range(len(self.activations)):\n",
    "            setattr(self, f'ActivationLayer_{i+1}', self.activations[i])\n",
    "            \n",
    "        for i in range(len(self.batch_norms)):\n",
    "            setattr(self, f'BatchNorm_{i+1}', self.batch_norms[i])\n",
    "            \n",
    "        for i in range(len(self.dropouts)):\n",
    "            setattr(self, f'Drpout_{i+1}', self.dropouts[i])\n",
    "            \n",
    "    def forward(self, X):\n",
    "        current = X\n",
    "        for i, layer_ in enumerate(self.layers):\n",
    "            if i == len(self.layers)-1:\n",
    "                current = layer_(current)\n",
    "            else:\n",
    "                current = layer_(current)\n",
    "                current = self.batch_norms[i](current)\n",
    "                current = self.activations[i](current)\n",
    "                current = self.dropouts[i](current)\n",
    "        return current\n",
    "            \n",
    "model = Emb2Cell(ENFORMER_EMBEDDING_SIZE, DATA_LENGTH)    "
   ]
  },
  {
   "cell_type": "markdown",
   "metadata": {},
   "source": [
    "We define a helper function that converts sparse arrays into dense torch tensors."
   ]
  },
  {
   "cell_type": "code",
   "execution_count": 17,
   "metadata": {},
   "outputs": [],
   "source": [
    "def get_tensor_from_sparse(sparse_array, device=device):\n",
    "    coo = coo_matrix(sparse_array)\n",
    "    values = coo.data\n",
    "    indices = np.vstack((coo.row, coo.col))\n",
    "    i = torch.LongTensor(indices)\n",
    "    v = torch.FloatTensor(values)\n",
    "    return torch.sparse.FloatTensor(i, v, torch.Size(coo.shape)).to(device).to_dense()"
   ]
  },
  {
   "cell_type": "code",
   "execution_count": 18,
   "metadata": {},
   "outputs": [
    {
     "data": {
      "text/plain": [
       "tensor([[ 0.2361,  0.7849],\n",
       "        [ 0.5639,  0.0730],\n",
       "        [ 0.0730,  0.7732],\n",
       "        [ 0.0257, -0.3636],\n",
       "        [-0.3150,  0.6528],\n",
       "        [-0.2383,  0.4834],\n",
       "        [-0.0710, -0.0058],\n",
       "        [-0.1616, -0.0528],\n",
       "        [-0.4661,  0.6912],\n",
       "        [-0.2798,  0.1131]], device='cuda:0', grad_fn=<AddmmBackward0>)"
      ]
     },
     "execution_count": 18,
     "metadata": {},
     "output_type": "execute_result"
    }
   ],
   "source": [
    "# Model Test\n",
    "batch_size = 10\n",
    "X_test = get_tensor_from_sparse(mdata[\"atac\"].layers[\"normalized\"][:, :batch_size]).reshape((batch_size, -1))\n",
    "inp = torch.cat([torch.randn(batch_size, ENFORMER_EMBEDDING_SIZE, device=device), X_test], dim=1)\n",
    "model(inp)"
   ]
  },
  {
   "cell_type": "markdown",
   "metadata": {},
   "source": [
    "## Defining the DataLoader"
   ]
  },
  {
   "cell_type": "markdown",
   "metadata": {},
   "source": [
    "To make our `Dataset` objects able to use a specific subset of genes/peaks or cells for training while keeping the rest for the test set, we need to pass 2 pandas DataFrame objects to their constructor function. The values of 1 in column use means that this peak/gene/cell will be present in the resulting `Dataset` object."
   ]
  },
  {
   "cell_type": "code",
   "execution_count": 19,
   "metadata": {},
   "outputs": [
    {
     "data": {
      "text/html": [
       "<div>\n",
       "<style scoped>\n",
       "    .dataframe tbody tr th:only-of-type {\n",
       "        vertical-align: middle;\n",
       "    }\n",
       "\n",
       "    .dataframe tbody tr th {\n",
       "        vertical-align: top;\n",
       "    }\n",
       "\n",
       "    .dataframe thead th {\n",
       "        text-align: right;\n",
       "    }\n",
       "</style>\n",
       "<table border=\"1\" class=\"dataframe\">\n",
       "  <thead>\n",
       "    <tr style=\"text-align: right;\">\n",
       "      <th></th>\n",
       "      <th>cell_id</th>\n",
       "      <th>use</th>\n",
       "    </tr>\n",
       "  </thead>\n",
       "  <tbody>\n",
       "    <tr>\n",
       "      <th>0</th>\n",
       "      <td>56390cf1b95e</td>\n",
       "      <td>1</td>\n",
       "    </tr>\n",
       "    <tr>\n",
       "      <th>1</th>\n",
       "      <td>fc0c60183c33</td>\n",
       "      <td>1</td>\n",
       "    </tr>\n",
       "    <tr>\n",
       "      <th>2</th>\n",
       "      <td>9b4a87e22ad0</td>\n",
       "      <td>1</td>\n",
       "    </tr>\n",
       "    <tr>\n",
       "      <th>3</th>\n",
       "      <td>81cccad8cd81</td>\n",
       "      <td>1</td>\n",
       "    </tr>\n",
       "    <tr>\n",
       "      <th>4</th>\n",
       "      <td>15cb3d85c232</td>\n",
       "      <td>1</td>\n",
       "    </tr>\n",
       "    <tr>\n",
       "      <th>...</th>\n",
       "      <td>...</td>\n",
       "      <td>...</td>\n",
       "    </tr>\n",
       "    <tr>\n",
       "      <th>105937</th>\n",
       "      <td>063cead1a4ea</td>\n",
       "      <td>1</td>\n",
       "    </tr>\n",
       "    <tr>\n",
       "      <th>105938</th>\n",
       "      <td>553bca99ba78</td>\n",
       "      <td>1</td>\n",
       "    </tr>\n",
       "    <tr>\n",
       "      <th>105939</th>\n",
       "      <td>00783f28b463</td>\n",
       "      <td>1</td>\n",
       "    </tr>\n",
       "    <tr>\n",
       "      <th>105940</th>\n",
       "      <td>e7abb1a0f251</td>\n",
       "      <td>1</td>\n",
       "    </tr>\n",
       "    <tr>\n",
       "      <th>105941</th>\n",
       "      <td>193992d571a5</td>\n",
       "      <td>1</td>\n",
       "    </tr>\n",
       "  </tbody>\n",
       "</table>\n",
       "<p>105942 rows × 2 columns</p>\n",
       "</div>"
      ],
      "text/plain": [
       "             cell_id  use\n",
       "0       56390cf1b95e    1\n",
       "1       fc0c60183c33    1\n",
       "2       9b4a87e22ad0    1\n",
       "3       81cccad8cd81    1\n",
       "4       15cb3d85c232    1\n",
       "...              ...  ...\n",
       "105937  063cead1a4ea    1\n",
       "105938  553bca99ba78    1\n",
       "105939  00783f28b463    1\n",
       "105940  e7abb1a0f251    1\n",
       "105941  193992d571a5    1\n",
       "\n",
       "[105942 rows x 2 columns]"
      ]
     },
     "execution_count": 19,
     "metadata": {},
     "output_type": "execute_result"
    }
   ],
   "source": [
    "# This DataFrame indicates which cells are going to be used in dataloader\n",
    "subset_cells = mdata[\"rna\"].obs.copy().reset_index(drop=True)\n",
    "subset_cells[\"use\"] = 1\n",
    "subset_cells"
   ]
  },
  {
   "cell_type": "code",
   "execution_count": 20,
   "metadata": {},
   "outputs": [
    {
     "data": {
      "text/html": [
       "<div>\n",
       "<style scoped>\n",
       "    .dataframe tbody tr th:only-of-type {\n",
       "        vertical-align: middle;\n",
       "    }\n",
       "\n",
       "    .dataframe tbody tr th {\n",
       "        vertical-align: top;\n",
       "    }\n",
       "\n",
       "    .dataframe thead th {\n",
       "        text-align: right;\n",
       "    }\n",
       "</style>\n",
       "<table border=\"1\" class=\"dataframe\">\n",
       "  <thead>\n",
       "    <tr style=\"text-align: right;\">\n",
       "      <th></th>\n",
       "      <th>gene_id</th>\n",
       "      <th>use</th>\n",
       "    </tr>\n",
       "  </thead>\n",
       "  <tbody>\n",
       "    <tr>\n",
       "      <th>0</th>\n",
       "      <td>ENSG00000030582</td>\n",
       "      <td>1</td>\n",
       "    </tr>\n",
       "    <tr>\n",
       "      <th>1</th>\n",
       "      <td>ENSG00000139970</td>\n",
       "      <td>1</td>\n",
       "    </tr>\n",
       "    <tr>\n",
       "      <th>2</th>\n",
       "      <td>ENSG00000172159</td>\n",
       "      <td>1</td>\n",
       "    </tr>\n",
       "    <tr>\n",
       "      <th>3</th>\n",
       "      <td>ENSG00000039319</td>\n",
       "      <td>1</td>\n",
       "    </tr>\n",
       "    <tr>\n",
       "      <th>4</th>\n",
       "      <td>ENSG00000154102</td>\n",
       "      <td>1</td>\n",
       "    </tr>\n",
       "    <tr>\n",
       "      <th>...</th>\n",
       "      <td>...</td>\n",
       "      <td>...</td>\n",
       "    </tr>\n",
       "    <tr>\n",
       "      <th>970</th>\n",
       "      <td>ENSG00000110066</td>\n",
       "      <td>1</td>\n",
       "    </tr>\n",
       "    <tr>\n",
       "      <th>971</th>\n",
       "      <td>ENSG00000100055</td>\n",
       "      <td>1</td>\n",
       "    </tr>\n",
       "    <tr>\n",
       "      <th>972</th>\n",
       "      <td>ENSG00000107968</td>\n",
       "      <td>1</td>\n",
       "    </tr>\n",
       "    <tr>\n",
       "      <th>973</th>\n",
       "      <td>ENSG00000182732</td>\n",
       "      <td>1</td>\n",
       "    </tr>\n",
       "    <tr>\n",
       "      <th>974</th>\n",
       "      <td>ENSG00000216937</td>\n",
       "      <td>1</td>\n",
       "    </tr>\n",
       "  </tbody>\n",
       "</table>\n",
       "<p>975 rows × 2 columns</p>\n",
       "</div>"
      ],
      "text/plain": [
       "             gene_id  use\n",
       "0    ENSG00000030582    1\n",
       "1    ENSG00000139970    1\n",
       "2    ENSG00000172159    1\n",
       "3    ENSG00000039319    1\n",
       "4    ENSG00000154102    1\n",
       "..               ...  ...\n",
       "970  ENSG00000110066    1\n",
       "971  ENSG00000100055    1\n",
       "972  ENSG00000107968    1\n",
       "973  ENSG00000182732    1\n",
       "974  ENSG00000216937    1\n",
       "\n",
       "[975 rows x 2 columns]"
      ]
     },
     "execution_count": 20,
     "metadata": {},
     "output_type": "execute_result"
    }
   ],
   "source": [
    "# This DataFrame indicates which genes are going to be used in dataloader\n",
    "subset_genes = mdata[\"rna\"].var.copy().drop([\"start\", \"end\", \"chr\"], axis=1).reset_index(drop=True)\n",
    "subset_genes[\"use\"] = 1\n",
    "subset_genes"
   ]
  },
  {
   "cell_type": "code",
   "execution_count": 21,
   "metadata": {},
   "outputs": [
    {
     "data": {
      "text/html": [
       "<div>\n",
       "<style scoped>\n",
       "    .dataframe tbody tr th:only-of-type {\n",
       "        vertical-align: middle;\n",
       "    }\n",
       "\n",
       "    .dataframe tbody tr th {\n",
       "        vertical-align: top;\n",
       "    }\n",
       "\n",
       "    .dataframe thead th {\n",
       "        text-align: right;\n",
       "    }\n",
       "</style>\n",
       "<table border=\"1\" class=\"dataframe\">\n",
       "  <thead>\n",
       "    <tr style=\"text-align: right;\">\n",
       "      <th></th>\n",
       "      <th>gene_id</th>\n",
       "      <th>use</th>\n",
       "    </tr>\n",
       "  </thead>\n",
       "  <tbody>\n",
       "    <tr>\n",
       "      <th>0</th>\n",
       "      <td>chr10:100013840-100014756</td>\n",
       "      <td>1</td>\n",
       "    </tr>\n",
       "    <tr>\n",
       "      <th>1</th>\n",
       "      <td>chr10:100255223-100255983</td>\n",
       "      <td>1</td>\n",
       "    </tr>\n",
       "    <tr>\n",
       "      <th>2</th>\n",
       "      <td>chr10:100370527-100371417</td>\n",
       "      <td>1</td>\n",
       "    </tr>\n",
       "    <tr>\n",
       "      <th>3</th>\n",
       "      <td>chr10:100564973-100565808</td>\n",
       "      <td>1</td>\n",
       "    </tr>\n",
       "    <tr>\n",
       "      <th>4</th>\n",
       "      <td>chr10:100650203-100651061</td>\n",
       "      <td>1</td>\n",
       "    </tr>\n",
       "    <tr>\n",
       "      <th>...</th>\n",
       "      <td>...</td>\n",
       "      <td>...</td>\n",
       "    </tr>\n",
       "    <tr>\n",
       "      <th>9992</th>\n",
       "      <td>chrY:13227302-13228090</td>\n",
       "      <td>1</td>\n",
       "    </tr>\n",
       "    <tr>\n",
       "      <th>9993</th>\n",
       "      <td>chrY:13738366-13739243</td>\n",
       "      <td>1</td>\n",
       "    </tr>\n",
       "    <tr>\n",
       "      <th>9994</th>\n",
       "      <td>chrY:21180640-21181505</td>\n",
       "      <td>1</td>\n",
       "    </tr>\n",
       "    <tr>\n",
       "      <th>9995</th>\n",
       "      <td>chrY:6908816-6909637</td>\n",
       "      <td>1</td>\n",
       "    </tr>\n",
       "    <tr>\n",
       "      <th>9996</th>\n",
       "      <td>chrY:7818751-7819626</td>\n",
       "      <td>1</td>\n",
       "    </tr>\n",
       "  </tbody>\n",
       "</table>\n",
       "<p>9997 rows × 2 columns</p>\n",
       "</div>"
      ],
      "text/plain": [
       "                        gene_id  use\n",
       "0     chr10:100013840-100014756    1\n",
       "1     chr10:100255223-100255983    1\n",
       "2     chr10:100370527-100371417    1\n",
       "3     chr10:100564973-100565808    1\n",
       "4     chr10:100650203-100651061    1\n",
       "...                         ...  ...\n",
       "9992     chrY:13227302-13228090    1\n",
       "9993     chrY:13738366-13739243    1\n",
       "9994     chrY:21180640-21181505    1\n",
       "9995       chrY:6908816-6909637    1\n",
       "9996       chrY:7818751-7819626    1\n",
       "\n",
       "[9997 rows x 2 columns]"
      ]
     },
     "execution_count": 21,
     "metadata": {},
     "output_type": "execute_result"
    }
   ],
   "source": [
    "# This DataFrame indicates which peaks are going to be used in dataloader\n",
    "subset_peaks = mdata[\"atac\"].var.copy().drop([\"start\", \"end\", \"chr\"], axis=1).reset_index(drop=True)\n",
    "subset_peaks[\"use\"] = 1\n",
    "subset_peaks"
   ]
  },
  {
   "cell_type": "markdown",
   "metadata": {},
   "source": [
    "### RNA"
   ]
  },
  {
   "cell_type": "code",
   "execution_count": 22,
   "metadata": {},
   "outputs": [],
   "source": [
    "class RNADataset(Dataset):\n",
    "    def __init__(self, subset_genes, subset_cells, device=device):\n",
    "        super(RNADataset, self).__init__()\n",
    "        \n",
    "        self.subset_genes_used = subset_genes[subset_genes.use==1].copy()\n",
    "        self.subset_cells_used = subset_cells[subset_cells.use==1].copy()\n",
    "\n",
    "        self.cell_size = len(self.subset_cells_used)\n",
    "        self.rna_size = len(self.subset_genes_used)\n",
    "        self.device = device\n",
    "\n",
    "    def __len__(self):\n",
    "        return self.rna_size * self.cell_size\n",
    "\n",
    "    def __getitem__(self, idx):\n",
    "        cell_id = idx // self.rna_size\n",
    "        cell_id = self.subset_cells_used.index[cell_id]\n",
    "        \n",
    "        gene_id = idx % self.rna_size\n",
    "        gene_id = self.subset_genes_used.index[gene_id]\n",
    "        \n",
    "        \n",
    "        embd = torch.tensor(rna_embd[gene_id], device=self.device)\n",
    "        one_hot = torch.zeros(DATA_LENGTH, dtype=torch.int, device=self.device).scatter_(\n",
    "            dim=0, \n",
    "            index=torch.tensor(cell_id, device=self.device), \n",
    "            value=1\n",
    "        )\n",
    "        X = torch.cat([embd, one_hot])\n",
    "        y = get_tensor_from_sparse(mdata[\"rna\"].layers[\"normalized\"][cell_id, gene_id], device=self.device).reshape(1)\n",
    "        return X, y"
   ]
  },
  {
   "cell_type": "markdown",
   "metadata": {},
   "source": [
    "Now we test the data loader:"
   ]
  },
  {
   "cell_type": "code",
   "execution_count": 23,
   "metadata": {},
   "outputs": [],
   "source": [
    "subset_genes.loc[10:,\"use\"] = 0\n",
    "subset_cells.loc[10:,\"use\"] = 0\n",
    "\n",
    "rna_data = RNADataset(subset_genes, subset_cells)\n",
    "rna_data = DataLoader(rna_data, batch_size=10, shuffle=True)"
   ]
  },
  {
   "cell_type": "code",
   "execution_count": 24,
   "metadata": {},
   "outputs": [
    {
     "name": "stderr",
     "output_type": "stream",
     "text": [
      "100%|██████████████████████████████████████████████████████████████████████████████████| 10/10 [00:00<00:00, 124.80it/s]"
     ]
    },
    {
     "name": "stdout",
     "output_type": "stream",
     "text": [
      "torch.Size([10, 109014]) torch.Size([10, 1])\n",
      "torch.Size([10, 109014]) torch.Size([10, 1])\n",
      "torch.Size([10, 109014]) torch.Size([10, 1])\n",
      "torch.Size([10, 109014]) torch.Size([10, 1])\n",
      "torch.Size([10, 109014]) torch.Size([10, 1])\n",
      "torch.Size([10, 109014]) torch.Size([10, 1])\n",
      "torch.Size([10, 109014]) torch.Size([10, 1])\n",
      "torch.Size([10, 109014]) torch.Size([10, 1])\n",
      "torch.Size([10, 109014]) torch.Size([10, 1])\n",
      "torch.Size([10, 109014]) torch.Size([10, 1])\n"
     ]
    },
    {
     "name": "stderr",
     "output_type": "stream",
     "text": [
      "\n"
     ]
    }
   ],
   "source": [
    "for X, y in tqdm(rna_data):\n",
    "    print(X.shape, y.shape)\n",
    "    pass"
   ]
  },
  {
   "cell_type": "markdown",
   "metadata": {},
   "source": [
    "### ATAC"
   ]
  },
  {
   "cell_type": "code",
   "execution_count": 25,
   "metadata": {},
   "outputs": [],
   "source": [
    "class ATACDataset(Dataset):\n",
    "    def __init__(self, subset_peaks, subset_cells, device=device):\n",
    "        super(ATACDataset, self).__init__()\n",
    "        \n",
    "        self.subset_peaks_used = subset_peaks[subset_peaks.use==1].copy()\n",
    "        self.subset_cells_used = subset_cells[subset_cells.use==1].copy()\n",
    "\n",
    "        self.cell_size = len(self.subset_cells_used)\n",
    "        self.peaks_size = len(self.subset_peaks_used)\n",
    "        self.device = device\n",
    "\n",
    "    def __len__(self):\n",
    "        return self.peaks_size * self.cell_size\n",
    "\n",
    "    def __getitem__(self, idx):\n",
    "        cell_id = idx // self.peaks_size\n",
    "        cell_id = self.subset_cells_used.index[cell_id]\n",
    "        \n",
    "        peak_id = idx % self.peaks_size\n",
    "        peak_id = self.subset_peaks_used.index[peak_id]\n",
    "        \n",
    "        embd = torch.tensor(atac_embd[peak_id], device=self.device)\n",
    "        one_hot = torch.zeros(DATA_LENGTH, dtype=torch.int, device=self.device).scatter_(\n",
    "            dim=0, \n",
    "            index=torch.tensor(cell_id, device=self.device), \n",
    "            value=1\n",
    "        )\n",
    "        X = torch.cat([embd, one_hot])\n",
    "        y = get_tensor_from_sparse(mdata[\"atac\"].layers[\"normalized\"][cell_id, peak_id], device=self.device).reshape(1)\n",
    "        return X, y"
   ]
  },
  {
   "cell_type": "markdown",
   "metadata": {},
   "source": [
    "Now we test the data loader:"
   ]
  },
  {
   "cell_type": "code",
   "execution_count": 26,
   "metadata": {},
   "outputs": [],
   "source": [
    "subset_peaks.loc[10:,\"use\"] = 0\n",
    "subset_cells.loc[10:,\"use\"] = 0\n",
    "\n",
    "atac_data = ATACDataset(subset_peaks, subset_cells)\n",
    "atac_data = DataLoader(atac_data, batch_size=10, shuffle=True)"
   ]
  },
  {
   "cell_type": "code",
   "execution_count": 27,
   "metadata": {
    "scrolled": true
   },
   "outputs": [
    {
     "name": "stderr",
     "output_type": "stream",
     "text": [
      "100%|██████████████████████████████████████████████████████████████████████████████████| 10/10 [00:00<00:00, 154.34it/s]"
     ]
    },
    {
     "name": "stdout",
     "output_type": "stream",
     "text": [
      "torch.Size([10, 109014]) torch.Size([10, 1])\n",
      "torch.Size([10, 109014]) torch.Size([10, 1])\n",
      "torch.Size([10, 109014]) torch.Size([10, 1])\n",
      "torch.Size([10, 109014]) torch.Size([10, 1])\n",
      "torch.Size([10, 109014]) torch.Size([10, 1])\n",
      "torch.Size([10, 109014]) torch.Size([10, 1])\n",
      "torch.Size([10, 109014]) torch.Size([10, 1])\n",
      "torch.Size([10, 109014]) torch.Size([10, 1])\n",
      "torch.Size([10, 109014]) torch.Size([10, 1])\n",
      "torch.Size([10, 109014]) torch.Size([10, 1])\n"
     ]
    },
    {
     "name": "stderr",
     "output_type": "stream",
     "text": [
      "\n"
     ]
    }
   ],
   "source": [
    "for X, y in tqdm(atac_data):\n",
    "    print(X.shape, y.shape)\n",
    "    pass"
   ]
  },
  {
   "cell_type": "markdown",
   "metadata": {},
   "source": [
    "## Training Loop"
   ]
  },
  {
   "cell_type": "markdown",
   "metadata": {},
   "source": [
    "Specifying training variables:"
   ]
  },
  {
   "cell_type": "code",
   "execution_count": 28,
   "metadata": {},
   "outputs": [],
   "source": [
    "n_epochs = 50\n",
    "criterion = BCEWithLogitsLoss()\n",
    "learning_rate = 0.001\n",
    "optimizer = Adam(model.parameters(), lr=learning_rate)\n",
    "batch_size = 64"
   ]
  },
  {
   "cell_type": "code",
   "execution_count": 29,
   "metadata": {},
   "outputs": [],
   "source": [
    "# just optimizing for first 5000 cells, all peaks and first 1500 genes\n",
    "subset_cells.loc[:,\"use\"] = 0\n",
    "subset_cells.loc[:5000,\"use\"] = 1\n",
    "\n",
    "subset_genes.loc[:,\"use\"] = 0\n",
    "subset_genes.loc[:1500,\"use\"] = 1\n",
    "\n",
    "subset_peaks.loc[:,\"use\"] = 0\n",
    "subset_peaks.loc[:,\"use\"] = 1\n",
    "\n",
    "rna_dataloader = DataLoader(\n",
    "    RNADataset(subset_genes, subset_cells),\n",
    "    batch_size=batch_size,\n",
    "    shuffle=True\n",
    ")\n",
    "\n",
    "atac_dataloader = DataLoader(\n",
    "    ATACDataset(subset_peaks, subset_cells),\n",
    "    batch_size=batch_size,\n",
    "    shuffle=True\n",
    ")"
   ]
  },
  {
   "cell_type": "code",
   "execution_count": null,
   "metadata": {},
   "outputs": [
    {
     "name": "stderr",
     "output_type": "stream",
     "text": [
      "RNA-epoch 1:   0%|                                                                | 125/76188 [00:15<2:31:48,  8.35it/s]"
     ]
    }
   ],
   "source": [
    "for epoch in range(n_epochs):\n",
    "    ### RNA\n",
    "    \n",
    "    for X_batch, y_batch in tqdm(rna_dataloader, desc=f\"RNA-epoch {epoch+1}\"):\n",
    "        y_pred = model(X_batch)[:, 0:1]\n",
    "        loss_rna = criterion(y_pred, y_batch)\n",
    "        optimizer.zero_grad()\n",
    "        loss_rna.backward()\n",
    "        optimizer.step()\n",
    "        \n",
    "    for X_batch, y_batch in tqdm(atac_dataloader, desc=f\"ATAC-epoch {epoch+1}\"):\n",
    "        y_pred = model(X_batch)[:, 1:]\n",
    "        loss_atac = criterion(y_pred, y_batch)\n",
    "        optimizer.zero_grad()\n",
    "        loss_atac.backward()\n",
    "        optimizer.step()\n",
    "        \n",
    "    \n",
    "        "
   ]
  }
 ],
 "metadata": {
  "colab": {
   "machine_shape": "hm",
   "provenance": []
  },
  "kernelspec": {
   "display_name": "Python 3 (ipykernel)",
   "language": "python",
   "name": "python3"
  },
  "language_info": {
   "codemirror_mode": {
    "name": "ipython",
    "version": 3
   },
   "file_extension": ".py",
   "mimetype": "text/x-python",
   "name": "python",
   "nbconvert_exporter": "python",
   "pygments_lexer": "ipython3",
   "version": "3.11.4"
  }
 },
 "nbformat": 4,
 "nbformat_minor": 1
}
